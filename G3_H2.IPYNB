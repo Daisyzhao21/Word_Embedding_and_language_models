{
 "cells": [
  {
   "cell_type": "markdown",
   "metadata": {
    "id": "FUs-utM4nEpa"
   },
   "source": [
    "# Language Models\n",
    "## Homework 2: Embeddings\n",
    "\n",
    "**Instructor**: Dr. Pavlos Protopapas<br />\n",
    "**Maximum Score**: 89"
   ]
  },
  {
   "cell_type": "markdown",
   "metadata": {
    "id": "YSZh0L44nEpa"
   },
   "source": [
    "\n",
    "## INSTRUCTIONS\n",
    "\n",
    "- This homework is a notebook. Download and work on it on your local machine or work on it in Colab.\n",
    "\n",
    "- This homework should be submitted in a group.\n",
    "\n",
    "- Ensure you and your partners together have submitted the homework only once. Multiple submissions of the same work will be penalised and will cost you 2 points.\n",
    "\n",
    "- Please restart the kernel and run the entire notebook again before you submit.\n",
    "\n",
    "- Running cells out of order is a common pitfall in Jupyter Notebooks. To make sure your code works restart the kernel and run the whole notebook again before you submit.\n",
    "\n",
    "- To submit the homework, any one of you upload the working notebook on edStem and click the submit button on the bottom right corner.\n",
    "\n",
    "- Submit the homework well before the given deadline. Submissions after the deadline will not be graded.\n",
    "\n",
    "- We have tried to include all the libraries you may need to do the assignment in the imports statement at the top of this notebook. We strongly suggest that you use those and not others as we may not be familiar with them.\n",
    "\n",
    "- Comment your code well. This would help the graders in case there is any issue with the notebook while running. It is important to remember that the graders will not troubleshoot your code.\n",
    "\n",
    "- Please use .head() when viewing data. Do not submit a notebook that is **excessively long**.\n",
    "\n",
    "- In questions that require code to answer, such as \"calculate the $R^2$\", do not just output the value from a cell. Write a `print()` function that includes a reference to the calculated value, **not hardcoded**. For example:\n",
    "```\n",
    "print(f'The R^2 is {R:.4f}')\n",
    "```\n",
    "- Your plots should include clear labels for the $x$ and $y$ axes as well as a descriptive title (\"MSE plot\" is not a descriptive title; \"95 % confidence interval of coefficients of polynomial degree 5\" is).\n",
    "\n",
    "- **Ensure you make appropriate plots for all the questions it is applicable to, regardless of it being explicitly asked for.**\n",
    "\n",
    "<hr style=\"height:2pt\">"
   ]
  },
  {
   "cell_type": "markdown",
   "metadata": {
    "id": "ohte8zYV4Zbk"
   },
   "source": [
    "## **Names of the people who worked on this homework**\n",
    "#### / Brian - Kuan-I Lu/ Danxuan Zhao/ Zixiao Jin/ Zhenghan Fang/ Manho Yeung/ Chule Guan"
   ]
  },
  {
   "cell_type": "markdown",
   "metadata": {
    "id": "1rgK7WjznEpb"
   },
   "source": [
    "## **Setup Notebook**"
   ]
  },
  {
   "cell_type": "markdown",
   "metadata": {
    "id": "vjtRomEYnEpb"
   },
   "source": [
    "**Imports**"
   ]
  },
  {
   "cell_type": "code",
   "execution_count": 1,
   "metadata": {
    "id": "V8h9yo0znEpb"
   },
   "outputs": [],
   "source": [
    "import requests\n",
    "import urllib\n",
    "import re\n",
    "import os\n",
    "import zipfile\n",
    "import collections\n",
    "import numpy as np\n",
    "import pandas as pd\n",
    "import urllib.request\n",
    "import matplotlib.pyplot as plt\n",
    "from collections import defaultdict\n",
    "%matplotlib inline\n",
    "from IPython.core.display import HTML\n",
    "\n",
    "import tensorflow as tf\n",
    "from tensorflow import keras\n",
    "from tensorflow.python.keras import backend as K\n",
    "from tensorflow.keras.models import Model\n",
    "\n",
    "from sklearn.model_selection import train_test_split\n",
    "from tensorflow.keras.preprocessing.text import Tokenizer\n",
    "from sklearn.metrics.pairwise import cosine_similarity\n"
   ]
  },
  {
   "cell_type": "markdown",
   "metadata": {
    "id": "b4EfEesCnEpc"
   },
   "source": [
    "**Verify Setup**"
   ]
  },
  {
   "cell_type": "code",
   "execution_count": 2,
   "metadata": {
    "colab": {
     "base_uri": "https://localhost:8080/"
    },
    "id": "jIRz9x-unEpc",
    "outputId": "98b2f1eb-a79d-4f7f-9bf4-f5651a850bb9"
   },
   "outputs": [
    {
     "name": "stdout",
     "output_type": "stream",
     "text": [
      "tensorflow version 2.17.0\n",
      "Eager Execution Enabled: True\n",
      "Number of replicas: 1\n",
      "Devices: [PhysicalDevice(name='/physical_device:CPU:0', device_type='CPU'), PhysicalDevice(name='/physical_device:GPU:0', device_type='GPU')]\n",
      "[LogicalDevice(name='/device:GPU:0', device_type='GPU')]\n",
      "GPU Available:  [PhysicalDevice(name='/physical_device:GPU:0', device_type='GPU')]\n",
      "All Physical Devices [PhysicalDevice(name='/physical_device:CPU:0', device_type='CPU'), PhysicalDevice(name='/physical_device:GPU:0', device_type='GPU')]\n"
     ]
    }
   ],
   "source": [
    "print(\"tensorflow version\", tf.__version__)\n",
    "#print(\"keras version\", tf.keras.__version__)\n",
    "print(\"Eager Execution Enabled:\", tf.executing_eagerly())\n",
    "\n",
    "# Get the number of replicas\n",
    "strategy = tf.distribute.MirroredStrategy()\n",
    "print(\"Number of replicas:\", strategy.num_replicas_in_sync)\n",
    "\n",
    "devices = tf.config.experimental.get_visible_devices()\n",
    "print(\"Devices:\", devices)\n",
    "print(tf.config.experimental.list_logical_devices('GPU'))\n",
    "\n",
    "print(\"GPU Available: \", tf.config.list_physical_devices('GPU'))\n",
    "print(\"All Physical Devices\", tf.config.list_physical_devices())\n",
    "\n",
    "# Better performance with the tf.data API\n",
    "# Reference: https://www.tensorflow.org/guide/data_performance\n",
    "AUTOTUNE = tf.data.experimental.AUTOTUNE"
   ]
  },
  {
   "cell_type": "markdown",
   "metadata": {
    "id": "tRMHVZDqnEpd"
   },
   "source": [
    "## **PART 1 [25 points]: Word2Vec from scratch**"
   ]
  },
  {
   "cell_type": "markdown",
   "metadata": {
    "id": "8Mkm_o-inEpd"
   },
   "source": [
    "<div class=\"alert alert-block alert-danger\" style=\"color:black;background-color:#E7F4FA\">\n",
    "\n",
    "Word2Vec architecture allows us to get *contextual* representations of word tokens.     \n",
    "\n",
    "There are several methods to build a word embedding. We will focus on the SGNS architecture.\n",
    "\n",
    "![](https://drive.google.com/uc?export=view&id=1eyozbhsrzRaKc86SM7LblgzVMZKAW8Pe)\n",
    "\n",
    "In this problem, you are asked to build and analyze a Word2Vec architecture trained on Wikipedia articles.\n",
    "\n",
    "</div>"
   ]
  },
  {
   "cell_type": "markdown",
   "metadata": {
    "id": "5norFuxYnEpd"
   },
   "source": [
    "### **PART 1: Questions**"
   ]
  },
  {
   "cell_type": "markdown",
   "metadata": {
    "id": "8F3Hdc2rnEpd"
   },
   "source": [
    "<div class=\"alert alert-block alert-danger\" style=\"color:black;background-color:#E7F4FA\">\n",
    "\n",
    "    \n",
    "**1.1 [5 points] Model Processing**\n",
    "<br />\n",
    "<details>\n",
    "<summary>\n",
    "<font size=\"3\" color=\"green\">\n",
    "<b>Click for instructions</b>\n",
    "</font>\n",
    "</summary>\n",
    "    \n",
    "**1.1.1** - Get the data    \n",
    "\n",
    "- Get the data from the `text8.zip` file.\n",
    "    `text8.zip` is a small, *cleaned* subset of a large corpus of data scraped from Wikipedia pages. More details can be found [here](https://paperswithcode.com/sota/language-modelling-on-text8)\n",
    "    It is usually used to quickly train, or test language models.\n",
    "\n",
    "- Split the data by whitespace and print the first 10 words to check if has been correctly loaded.\n",
    "\n",
    "    **NOTE:** For this part of the homework, all words will be in their lowercase for simplicity of analysis\n",
    "<br />    \n",
    "\n",
    "**1.1.2** - Build the dataset\n",
    "\n",
    "- Write a function that takes the `vocabulary_size` and `corpus` as input, and outputs:\n",
    "    - Tokenized data\n",
    "    - count of each token\n",
    "    - A dictionary that maps words to tokens\n",
    "    - A dictionary that maps tokens to words\n",
    "    You can use the same function used in **Lab 3**, or else you can use [`tf.keras.Tokenizer`](https://www.tensorflow.org/api_docs/python/tf/keras/preprocessing/text/Tokenizer) to write a similar function.\n",
    "- Print the first 10 tokens and reverse them to words to confirm a match to the initial print above.\n",
    "     \n",
    "  \n",
    "Eg. `corpus[:10] = ['this','is,'an','example',...]`\n",
    "\n",
    "`data[:10] = [44,26,24,16,...]`\n",
    "    \n",
    "`reversed_data =['this','is,'an','example',...]`\n",
    "\n",
    "**NOTE**: Choose a sufficiently large vocabulary size. i.e `vocab_size>= 1000`    \n",
    "<br />\n",
    "    \n",
    "**1.1.3** - Build skipgrams with negative samples\n",
    "- Use the `tf.keras.preprocessing.sequence.skipgrams` function to build positive and negative samples \\\n",
    "    for word2vec training. Follow the documentation on how to make the pairs\n",
    "- You are free to choose your own `window_size`, but we recommend a value of 3.\n",
    "- Print 10 pairs of *center* and *context* words with their associated labels.    \n",
    "    \n",
    "Skip-gram Sampling table\n",
    "A large dataset means a larger vocabulary with a higher number of more frequent words such as stopwords. Training examples obtained from sampling commonly occurring words (such as the, is, on) don't add much useful information for the model to learn from. [Mikolov et al.](https://papers.nips.cc/paper/2013/file/9aa42b31882ec039965f3c4923ce901b-Paper.pdf) suggest subsampling of frequent words as a helpful practice to improve embedding quality.\n",
    "\n",
    "The `tf.keras.preprocessing.sequence.skipgrams` function accepts a sampling table argument to encode probabilities of sampling any token. You can use the `tf.keras.preprocessing.sequence.make_sampling_table` to generate a word-frequency rank-based probabilistic sampling table and pass it to skipgrams function.    \n",
    "<br />\n",
    "    \n",
    "**1.1.4** - What is the difference between using a sampling table and not using a sampling table while building the dataset for skipgrams?\n",
    "<br /><br />\n",
    "    \n",
    "</details>\n",
    "    \n",
    "**1.2 [8 points] Building a Word2Vec model**\n",
    "<br />\n",
    "<details>\n",
    "<summary>\n",
    "<font size=\"3\" color=\"green\">\n",
    "<b>Click for instructions</b>\n",
    "</font>\n",
    "</summary>\n",
    "    \n",
    "Build a word2vec model architecture based on the schematic below.\n",
    "\n",
    "\n",
    "![](https://drive.google.com/uc?export=view&id=1fBTpoBoG5RZIPTtdogZt37Bw3oUb7tuT)\n",
    "  \n",
    "    \n",
    "- To do so, you will need:\n",
    "    - `tf.keras.layers.Embedding` layer\n",
    "    - `tf.keras.layers.Dot()`\n",
    "    - `tf.keras.Model()` which is the functional API\n",
    "- You can choose an appropriate embedding dimension\n",
    "- Compile the model using `binary_crossentropy()` function and an appropriate optimizer.\n",
    "- Sufficiently train the model.    \n",
    "- Save model weights using the `model.save_weights()` for analysis of **2.3**. More information on saving your weights [here](https://www.tensorflow.org/tutorials/keras/save_and_load)    \n",
    "<br />\n",
    "\n",
    "</details>\n",
    "    \n",
    "    \n",
    "**1.3 [7 points] Post-training analysis**\n",
    "\n",
    "<details>\n",
    "<summary>\n",
    "<font size=\"3\" color=\"green\">\n",
    "<b>Click for instructions</b>\n",
    "</font>\n",
    "</summary>\n",
    "    \n",
    "This segment involves some simple analysis of your trained embeddings.\n",
    "<br /><br />\n",
    "    \n",
    "    \n",
    "**1.3.1** - Vector Algebra on Embeddings\n",
    "\n",
    "Assuming you have chosen a sufficiently large `vocab_size`, find the embeddings for:\n",
    "    \n",
    "1. King\n",
    "2. Male\n",
    "3. Female\n",
    "4. Queen\n",
    "    \n",
    "Find the vector `v = King - Male + Female` and find its `cosine_similarity()` with the embedding for 'Queen'.\n",
    "You can use the `cosine_similarity()` function defined in the session 3 exercise.\n",
    "\n",
    "**NOTE**:The `cosine_similarity()` value, must be greater than `0.9`; If it is not, this implies that your word2vec embeddings are not well-trained.\n",
    "\n",
    "Write a function `most_similar()`, which finds the top-n words most similar to the given word. Use this function to find the words most similar to `king`.\n",
    "    \n",
    "**Conceptual Question** Why can't we use `cosine_similarity()` as a `loss_function`?\n",
    "    \n",
    "<br />\n",
    "    \n",
    "**1.3.2** - Visualizing Embeddings\n",
    "\n",
    "Find the embeddings for the words:\n",
    "1. 'January'\n",
    "2. 'February'\n",
    "3. 'March'\n",
    "4. 'April'\n",
    "    \n",
    "Find the `cosine_similarity()` of 'january' with each of 'february`, 'march', 'april' (which should be high values).\n",
    "    \n",
    "Save your trained weights. Recreate the network you have created above and initialize it with random weights. Compute the `cosine_similarity()` values. The values should be small (because the embeddings are random).\n",
    "    \n",
    "Use a demonstrative plot to show the `before & after` of the 4 embeddings. Here are some suggestions:\n",
    "    1. PCA/TSNE for dimensionality reduction\n",
    "    2. Radar plot to show all embedding dimensions\n",
    "    \n",
    "Bonus points for using creative means to demonstrate how the embeddings change after training.\n",
    "\n",
    "Here is a [video](https://youtu.be/VDl_iA8m8u0) of a sample demonstration. We used a custom callback to get embeddings during training.  \n",
    "        \n",
    "\n",
    "<br />\n",
    "    \n",
    "**1.3.3** - Embedding and Context Matrix\n",
    "    \n",
    "    \n",
    "**1.3.3.1** Investigate the relation between the Embedding & Context matrix. Again use the `cosine_similarity()` function to find the average value across all the words in the embedding and context matrix, i.e:\n",
    "  - For the word 'dog', find the embedding value, and context value. <br>\n",
    "  - Calculate the `cosine_similarity()` between the two <br>\n",
    "  - Repeat the same for every word in the vocabulary and calculate the average value of the `cosine_similarity()`\n",
    "<br />\n",
    "\n",
    "**1.3.3.2** Answer the following question and explain:\n",
    "\n",
    "**Question:** The embedding and context matrices should be identical.\n",
    "<br /><br />\n",
    "    \n",
    " </details>\n",
    "\n",
    "**1.4 [5 points] Learning phrases**\n",
    "    \n",
    "<details>\n",
    "<summary>\n",
    "<font size=\"3\" color=\"green\">\n",
    "<b>Click for instructions</b>\n",
    "</font>\n",
    "</summary>\n",
    "\n",
    "As per the original paper by [Mikolov et al](https://arxiv.org/abs/1301.3781) many phrases have a meaning that is not a simple composition of the meanings of their individual words.\n",
    "For eg. `new york` is one entity, however, as per our analysis above, we have two separate entities `new` & `york` which can have different meanings independently.    \n",
    "To learn vector representation for phrases, we first find words that\n",
    "appear frequently together, and infrequently in other contexts.\n",
    "    \n",
    "As per the analysis in the paper, we can use a formula to rank commonly used word pairs, and take the first 100 commonly occurring pairs.\n",
    "$$\\operatorname{score}\\left(w_{i}, w_{j}\\right)=\\frac{\\operatorname{count}\\left(w_{i} w_{j}\\right)-\\delta}{\\operatorname{count}\\left(w_{i}\\right) \\times \\operatorname{count}\\left(w_{j}\\right)}$$\n",
    "\n",
    "**NOTE:** For simplicity of analysis, we take the discounting factor $\\delta$ as 0, and take bi-gram combinations. You can experiment with tri-grams for word pairs such as `New_York_Times`.     \n",
    "<br /><br />\n",
    "\n",
    "    \n",
    "**1.4.1** - Find 100 most common bi-grams\n",
    "\n",
    "From the tokenized data above, find the count for each bigram pair.\n",
    "    \n",
    "For each such pair, find the score associated with each token pair using the formula above.\n",
    "    \n",
    " Pick the top 100 pairs based on the score. (Higher the better). To understand the `score()` function we suggest you read the paper mentioned above.\n",
    "    \n",
    "Replace the original `text8` file with the pairs as one entity. E.g., if `prime, minister` is a commonly occurring pair, replace `... prime minister ...' in the original corpus with a single entity `prime_minister`. Do this for all 100 pairs.\n",
    "<br /><br />\n",
    "    \n",
    "**1.4.2** - Retrain word2vec\n",
    "With the new corpus generated as above, build the dataset, use skipgrams and retrain your word2vec with a sufficiently large vocabulary.\n",
    "\n",
    "Write a function `most_dissimilar()`, similar to the `most_similar()` function, however this finds the top-n words which are **most dissimilar** to the given word.\n",
    "Use this function defined above to find the entities most dissimilar to `united_kingdom`\n",
    "    \n",
    "Compare the above with separate tokens for `united` & `kingdom` and the sum of the vectors (to get this, you may need a sufficiently large vocabulary (>2000)).\n",
    "<br /> <br />\n",
    "</div>"
   ]
  },
  {
   "cell_type": "markdown",
   "metadata": {
    "id": "fZgt3ENsnEpe"
   },
   "source": [
    "### **PART 1: Solutions**"
   ]
  },
  {
   "cell_type": "markdown",
   "metadata": {
    "id": "y5202ZMqnEpe"
   },
   "source": [
    "<div class=\"alert alert-block alert-danger\" style=\"color:black;background-color:#E7F4FA\">\n",
    "    \n",
    "#### **1.1 [5 points] Model processing**"
   ]
  },
  {
   "cell_type": "markdown",
   "metadata": {
    "id": "aR_Smw-795Sx"
   },
   "source": [
    "**1.1.1** - Get the data  \n",
    "\n",
    "- Get the data from the `text8.zip` file.\n",
    "    `text8.zip` is a small, *cleaned* subset of a large corpus of data scraped from Wikipedia pages. More details can be found [here](https://paperswithcode.com/sota/language-modelling-on-text8)\n",
    "    It is usually used to quickly train, or test language models.\n",
    "    \n",
    "- Split the data by whitespace and print the first 10 words to check if has been correctly loaded.\n",
    "\n",
    "    **NOTE:** For this part of the homework, all words will be in their lowercase for simplicity of analysis   \n",
    "    </div>"
   ]
  },
  {
   "cell_type": "code",
   "execution_count": 3,
   "metadata": {
    "colab": {
     "base_uri": "https://localhost:8080/"
    },
    "id": "ZjDtIvf2nEpe",
    "outputId": "a331a506-6874-4494-916c-97a5063237f7"
   },
   "outputs": [
    {
     "data": {
      "text/plain": [
       "['anarchism',\n",
       " 'originated',\n",
       " 'as',\n",
       " 'a',\n",
       " 'term',\n",
       " 'of',\n",
       " 'abuse',\n",
       " 'first',\n",
       " 'used',\n",
       " 'against']"
      ]
     },
     "execution_count": 3,
     "metadata": {},
     "output_type": "execute_result"
    }
   ],
   "source": [
    "# Helper code to read the data\n",
    "\n",
    "# Download\n",
    "urllib.request.urlretrieve(\"https://github.com/dlops-io/datasets/releases/download/v1.0/text8.zip\", \"text8.zip\")\n",
    "\n",
    "# Unzip and read data\n",
    "filename = 'text8.zip'\n",
    "with zipfile.ZipFile(filename) as f:\n",
    "    vocabulary = tf.compat.as_str(f.read(f.namelist()[0])).split()\n",
    "vocabulary[:10]"
   ]
  },
  {
   "cell_type": "markdown",
   "metadata": {
    "id": "N-LvsjldnEpe"
   },
   "source": [
    "<div class=\"alert alert-block alert-danger\" style=\"color:black;background-color:#E7F4FA\">\n",
    "\n",
    "**1.1.2** - Build the dataset  \n",
    "\n",
    "- Write a function that takes the `vocabulary_size` and `corpus` as input, and outputs:\n",
    "    - Tokenized data\n",
    "    - count of each token\n",
    "    - A dictionary that maps words to tokens\n",
    "    - A dictionary that maps tokens to words\n",
    "    You can use the same function used in **Lab 3**, or else you can use [`tf.keras.Tokenizer`](https://www.tensorflow.org/api_docs/python/tf/keras/preprocessing/text/Tokenizer) to write a similar function.\n",
    "- Print the first 10 tokens and reverse them to words to confirm a match to the initial print above.\n",
    "     \n",
    "  \n",
    "Eg. `corpus[:10] = ['this','is,'an','example',...]`\n",
    "\n",
    "`data[:10] = [44,26,24,16,...]`\n",
    "    \n",
    "`reversed_data =['this','is,'an','example',...]`\n",
    "\n",
    "**NOTE**: Choose a sufficiently large vocabulary size. i.e `vocab_size>= 1000`\n",
    "    \n",
    "</div>"
   ]
  },
  {
   "cell_type": "code",
   "execution_count": 4,
   "metadata": {
    "id": "n6ug4gU0nEpe"
   },
   "outputs": [],
   "source": [
    "from tensorflow.keras.preprocessing.text import Tokenizer\n",
    "\n",
    "def build_dataset(words, n_words):\n",
    "    \"\"\"Process raw inputs into a dataset.\"\"\"\n",
    "   # Your code here\n",
    "    tokenizer = Tokenizer(num_words=n_words, oov_token='<unk>')\n",
    "\n",
    "\n",
    "    tokenizer.fit_on_texts(words)\n",
    "    data = tokenizer.texts_to_sequences(words)\n",
    "    data = [token[0] for token in data]\n",
    "    count = tokenizer.word_counts\n",
    "    dictionary = tokenizer.word_index\n",
    "    reverse_dictionary = tokenizer.index_word\n",
    "\n",
    "    return data, count, dictionary, reverse_dictionary"
   ]
  },
  {
   "cell_type": "code",
   "execution_count": 6,
   "metadata": {
    "id": "Vr_A2ysu1quX"
   },
   "outputs": [],
   "source": [
    "vocab_size = 20000\n",
    "data, count, dictionary, reverse_dictionary = build_dataset(vocabulary, vocab_size)\n"
   ]
  },
  {
   "cell_type": "code",
   "execution_count": 8,
   "metadata": {
    "colab": {
     "base_uri": "https://localhost:8080/",
     "height": 211
    },
    "collapsed": true,
    "id": "YJXj0Kgv2IMA",
    "jupyter": {
     "outputs_hidden": true
    },
    "outputId": "16272d4d-cbfd-4868-a8fd-a8341936e490"
   },
   "outputs": [
    {
     "ename": "NameError",
     "evalue": "name 'vocabulary' is not defined",
     "output_type": "error",
     "traceback": [
      "\u001b[0;31m---------------------------------------------------------------------------\u001b[0m",
      "\u001b[0;31mNameError\u001b[0m                                 Traceback (most recent call last)",
      "\u001b[0;32m<ipython-input-8-dfc0fd886f0e>\u001b[0m in \u001b[0;36m<cell line: 3>\u001b[0;34m()\u001b[0m\n\u001b[1;32m      1\u001b[0m \u001b[0mreversed_data\u001b[0m \u001b[0;34m=\u001b[0m \u001b[0;34m[\u001b[0m\u001b[0mreverse_dictionary\u001b[0m\u001b[0;34m[\u001b[0m\u001b[0mtoken\u001b[0m\u001b[0;34m]\u001b[0m \u001b[0;32mfor\u001b[0m \u001b[0mtoken\u001b[0m \u001b[0;32min\u001b[0m \u001b[0mdata\u001b[0m\u001b[0;34m[\u001b[0m\u001b[0;34m:\u001b[0m\u001b[0;36m10\u001b[0m\u001b[0;34m]\u001b[0m\u001b[0;34m]\u001b[0m\u001b[0;34m\u001b[0m\u001b[0;34m\u001b[0m\u001b[0m\n\u001b[1;32m      2\u001b[0m \u001b[0;34m\u001b[0m\u001b[0m\n\u001b[0;32m----> 3\u001b[0;31m \u001b[0mprint\u001b[0m\u001b[0;34m(\u001b[0m\u001b[0mvocabulary\u001b[0m\u001b[0;34m[\u001b[0m\u001b[0;34m:\u001b[0m\u001b[0;36m10\u001b[0m\u001b[0;34m]\u001b[0m\u001b[0;34m)\u001b[0m\u001b[0;34m\u001b[0m\u001b[0;34m\u001b[0m\u001b[0m\n\u001b[0m\u001b[1;32m      4\u001b[0m \u001b[0mprint\u001b[0m\u001b[0;34m(\u001b[0m\u001b[0mdata\u001b[0m\u001b[0;34m[\u001b[0m\u001b[0;34m:\u001b[0m\u001b[0;36m10\u001b[0m\u001b[0;34m]\u001b[0m\u001b[0;34m)\u001b[0m\u001b[0;34m\u001b[0m\u001b[0;34m\u001b[0m\u001b[0m\n\u001b[1;32m      5\u001b[0m \u001b[0mprint\u001b[0m\u001b[0;34m(\u001b[0m\u001b[0mreversed_data\u001b[0m\u001b[0;34m)\u001b[0m\u001b[0;34m\u001b[0m\u001b[0;34m\u001b[0m\u001b[0m\n",
      "\u001b[0;31mNameError\u001b[0m: name 'vocabulary' is not defined"
     ]
    }
   ],
   "source": [
    "reversed_data = [reverse_dictionary[token] for token in data[:10]]\n",
    "\n",
    "print(vocabulary[:10])\n",
    "print(data[:10])\n",
    "print(reversed_data)\n",
    "\n",
    "del vocabulary  # Hint to reduce memory."
   ]
  },
  {
   "cell_type": "markdown",
   "metadata": {
    "id": "QNJgNtY-nEpf"
   },
   "source": [
    "<div class=\"alert alert-block alert-danger\" style=\"color:black;background-color:#E7F4FA\">\n",
    "\n",
    "**1.1.3** - Build skipgrams with negative samples\n",
    "- Use the `tf.keras.preprocessing.sequence.skipgrams` function to build positive and negative samples \\\n",
    "    for word2vec training. Follow the documentation on how to make the pairs\n",
    "- You are free to choose your own `window_size`, but we recommend a value of 3.\n",
    "- Print 10 pairs of *center* and *context* words with their associated labels.    \n",
    "    \n",
    "Skip-gram Sampling table\n",
    "A large dataset means a larger vocabulary with a higher number of more frequent words such as stopwords. Training examples obtained from sampling commonly occurring words (such as the, is, on) don't add much useful information for the model to learn from. [Mikolov et al.](https://papers.nips.cc/paper/2013/file/9aa42b31882ec039965f3c4923ce901b-Paper.pdf) suggest subsampling of frequent words as a helpful practice to improve embedding quality.\n",
    "\n",
    "The `tf.keras.preprocessing.sequence.skipgrams` function accepts a sampling table argument to encode probabilities of sampling any token. You can use the `tf.keras.preprocessing.sequence.make_sampling_table` to generate a word-frequency rank-based probabilistic sampling table and pass it to skipgrams function.    \n",
    "\n",
    "</div>"
   ]
  },
  {
   "cell_type": "code",
   "execution_count": 9,
   "metadata": {
    "colab": {
     "base_uri": "https://localhost:8080/"
    },
    "id": "3RKKoPkTnEpf",
    "outputId": "98506202-8963-4a65-85e0-bc4fd534ee13"
   },
   "outputs": [
    {
     "name": "stdout",
     "output_type": "stream",
     "text": [
      "[[18711, 5594], [17392, 517], [5037, 15152], [4908, 824], [634, 186], [20, 48], [18848, 300], [2823, 14709], [2478, 7874], [903, 23]] [0, 1, 0, 1, 1, 1, 1, 0, 0, 1]\n"
     ]
    }
   ],
   "source": [
    "# Your code here\n",
    "from tensorflow.keras.preprocessing.sequence import skipgrams\n",
    "from tensorflow.keras.preprocessing.sequence import make_sampling_table\n",
    "\n",
    "sampling_table = make_sampling_table(vocab_size) # Create sampling table to downsample higher frequency words\n",
    "\n",
    "window_size = 3 # Define a window size of 3\n",
    "couples, labels = skipgrams(sequence= data, vocabulary_size= vocab_size, window_size= window_size, negative_samples= 1, sampling_table= sampling_table)\n",
    "\n",
    "# Separate the target,context pairs as word_target, word_context\n",
    "word_center = [pair[0] for pair in couples]\n",
    "word_context = [pair[1] for pair in couples]\n",
    "print(couples[:10], labels[:10])\n",
    "\n"
   ]
  },
  {
   "cell_type": "markdown",
   "metadata": {
    "id": "OGrwzX-_nEpf"
   },
   "source": [
    "<div class=\"alert alert-block alert-danger\" style=\"color:black;background-color:#E7F4FA\">\n",
    "\n",
    "**1.1.4** - What is the difference between using a sampling table and not using a sampling table while building the dataset for skipgrams?\n",
    "    \n",
    "With the use of a sampling table, we can avoid sampling too much from some of the high-frequency words that carrys less significance(such as the, is, on). This in turns make our skipgrams sample more from more meaningful words compare to if we didn't use the sampling model.\n",
    "</div>"
   ]
  },
  {
   "cell_type": "markdown",
   "metadata": {
    "id": "R6p8Wzo7nEpf"
   },
   "source": [
    "<div class=\"alert alert-block alert-danger\" style=\"color:black;background-color:#E7F4FA\">\n",
    "\n",
    "#### **1.2 [8 points]** **Building a word2vec model**\n",
    "\n",
    "Build a word2vec model architecture based on the schematic below.\n",
    "\n",
    "\n",
    "![](https://drive.google.com/uc?export=view&id=1fBTpoBoG5RZIPTtdogZt37Bw3oUb7tuT)\n",
    "  \n",
    "    \n",
    "- To do so, you will need:\n",
    "    - `tf.keras.layers.Embedding` layer\n",
    "    - `tf.keras.layers.Dot()`\n",
    "    - `tf.keras.Model()` which is the functional API\n",
    "- You can choose an appropriate embedding dimension\n",
    "- Compile the model using `binary_crossentropy()` function and an appropriate optimizer.\n",
    "- Sufficiently train the model.    \n",
    "- Save model weights using the `model.save_weights()` for analysis of **2.3**. More information on saving your weights [here](https://www.tensorflow.org/tutorials/keras/save_and_load)    \n",
    "    \n",
    "</div>"
   ]
  },
  {
   "cell_type": "code",
   "execution_count": 10,
   "metadata": {
    "colab": {
     "base_uri": "https://localhost:8080/",
     "height": 449
    },
    "id": "fCQ274y1nEpf",
    "outputId": "69339b4e-6e35-4731-91d6-5bf62328b8db"
   },
   "outputs": [
    {
     "data": {
      "text/html": [
       "<pre style=\"white-space:pre;overflow-x:auto;line-height:normal;font-family:Menlo,'DejaVu Sans Mono',consolas,'Courier New',monospace\"><span style=\"font-weight: bold\">Model: \"functional\"</span>\n",
       "</pre>\n"
      ],
      "text/plain": [
       "\u001b[1mModel: \"functional\"\u001b[0m\n"
      ]
     },
     "metadata": {},
     "output_type": "display_data"
    },
    {
     "data": {
      "text/html": [
       "<pre style=\"white-space:pre;overflow-x:auto;line-height:normal;font-family:Menlo,'DejaVu Sans Mono',consolas,'Courier New',monospace\">┏━━━━━━━━━━━━━━━━━━━━━━━━━━━┳━━━━━━━━━━━━━━━━━━━━━━━━┳━━━━━━━━━━━━━━━━┳━━━━━━━━━━━━━━━━━━━━━━━━┓\n",
       "┃<span style=\"font-weight: bold\"> Layer (type)              </span>┃<span style=\"font-weight: bold\"> Output Shape           </span>┃<span style=\"font-weight: bold\">        Param # </span>┃<span style=\"font-weight: bold\"> Connected to           </span>┃\n",
       "┡━━━━━━━━━━━━━━━━━━━━━━━━━━━╇━━━━━━━━━━━━━━━━━━━━━━━━╇━━━━━━━━━━━━━━━━╇━━━━━━━━━━━━━━━━━━━━━━━━┩\n",
       "│ input_layer (<span style=\"color: #0087ff; text-decoration-color: #0087ff\">InputLayer</span>)  │ (<span style=\"color: #00d7ff; text-decoration-color: #00d7ff\">None</span>, <span style=\"color: #00af00; text-decoration-color: #00af00\">1</span>)              │              <span style=\"color: #00af00; text-decoration-color: #00af00\">0</span> │ -                      │\n",
       "├───────────────────────────┼────────────────────────┼────────────────┼────────────────────────┤\n",
       "│ input_layer_1             │ (<span style=\"color: #00d7ff; text-decoration-color: #00d7ff\">None</span>, <span style=\"color: #00af00; text-decoration-color: #00af00\">1</span>)              │              <span style=\"color: #00af00; text-decoration-color: #00af00\">0</span> │ -                      │\n",
       "│ (<span style=\"color: #0087ff; text-decoration-color: #0087ff\">InputLayer</span>)              │                        │                │                        │\n",
       "├───────────────────────────┼────────────────────────┼────────────────┼────────────────────────┤\n",
       "│ word_embedding            │ (<span style=\"color: #00d7ff; text-decoration-color: #00d7ff\">None</span>, <span style=\"color: #00af00; text-decoration-color: #00af00\">1</span>, <span style=\"color: #00af00; text-decoration-color: #00af00\">16</span>)          │        <span style=\"color: #00af00; text-decoration-color: #00af00\">320,000</span> │ input_layer[<span style=\"color: #00af00; text-decoration-color: #00af00\">0</span>][<span style=\"color: #00af00; text-decoration-color: #00af00\">0</span>]      │\n",
       "│ (<span style=\"color: #0087ff; text-decoration-color: #0087ff\">Embedding</span>)               │                        │                │                        │\n",
       "├───────────────────────────┼────────────────────────┼────────────────┼────────────────────────┤\n",
       "│ context_embedding         │ (<span style=\"color: #00d7ff; text-decoration-color: #00d7ff\">None</span>, <span style=\"color: #00af00; text-decoration-color: #00af00\">1</span>, <span style=\"color: #00af00; text-decoration-color: #00af00\">16</span>)          │        <span style=\"color: #00af00; text-decoration-color: #00af00\">320,000</span> │ input_layer_1[<span style=\"color: #00af00; text-decoration-color: #00af00\">0</span>][<span style=\"color: #00af00; text-decoration-color: #00af00\">0</span>]    │\n",
       "│ (<span style=\"color: #0087ff; text-decoration-color: #0087ff\">Embedding</span>)               │                        │                │                        │\n",
       "├───────────────────────────┼────────────────────────┼────────────────┼────────────────────────┤\n",
       "│ reshape (<span style=\"color: #0087ff; text-decoration-color: #0087ff\">Reshape</span>)         │ (<span style=\"color: #00d7ff; text-decoration-color: #00d7ff\">None</span>, <span style=\"color: #00af00; text-decoration-color: #00af00\">16</span>)             │              <span style=\"color: #00af00; text-decoration-color: #00af00\">0</span> │ word_embedding[<span style=\"color: #00af00; text-decoration-color: #00af00\">0</span>][<span style=\"color: #00af00; text-decoration-color: #00af00\">0</span>]   │\n",
       "├───────────────────────────┼────────────────────────┼────────────────┼────────────────────────┤\n",
       "│ reshape_1 (<span style=\"color: #0087ff; text-decoration-color: #0087ff\">Reshape</span>)       │ (<span style=\"color: #00d7ff; text-decoration-color: #00d7ff\">None</span>, <span style=\"color: #00af00; text-decoration-color: #00af00\">16</span>)             │              <span style=\"color: #00af00; text-decoration-color: #00af00\">0</span> │ context_embedding[<span style=\"color: #00af00; text-decoration-color: #00af00\">0</span>][<span style=\"color: #00af00; text-decoration-color: #00af00\">…</span> │\n",
       "├───────────────────────────┼────────────────────────┼────────────────┼────────────────────────┤\n",
       "│ dot (<span style=\"color: #0087ff; text-decoration-color: #0087ff\">Dot</span>)                 │ (<span style=\"color: #00d7ff; text-decoration-color: #00d7ff\">None</span>, <span style=\"color: #00af00; text-decoration-color: #00af00\">1</span>)              │              <span style=\"color: #00af00; text-decoration-color: #00af00\">0</span> │ reshape[<span style=\"color: #00af00; text-decoration-color: #00af00\">0</span>][<span style=\"color: #00af00; text-decoration-color: #00af00\">0</span>],         │\n",
       "│                           │                        │                │ reshape_1[<span style=\"color: #00af00; text-decoration-color: #00af00\">0</span>][<span style=\"color: #00af00; text-decoration-color: #00af00\">0</span>]        │\n",
       "├───────────────────────────┼────────────────────────┼────────────────┼────────────────────────┤\n",
       "│ dense (<span style=\"color: #0087ff; text-decoration-color: #0087ff\">Dense</span>)             │ (<span style=\"color: #00d7ff; text-decoration-color: #00d7ff\">None</span>, <span style=\"color: #00af00; text-decoration-color: #00af00\">1</span>)              │              <span style=\"color: #00af00; text-decoration-color: #00af00\">2</span> │ dot[<span style=\"color: #00af00; text-decoration-color: #00af00\">0</span>][<span style=\"color: #00af00; text-decoration-color: #00af00\">0</span>]              │\n",
       "└───────────────────────────┴────────────────────────┴────────────────┴────────────────────────┘\n",
       "</pre>\n"
      ],
      "text/plain": [
       "┏━━━━━━━━━━━━━━━━━━━━━━━━━━━┳━━━━━━━━━━━━━━━━━━━━━━━━┳━━━━━━━━━━━━━━━━┳━━━━━━━━━━━━━━━━━━━━━━━━┓\n",
       "┃\u001b[1m \u001b[0m\u001b[1mLayer (type)             \u001b[0m\u001b[1m \u001b[0m┃\u001b[1m \u001b[0m\u001b[1mOutput Shape          \u001b[0m\u001b[1m \u001b[0m┃\u001b[1m \u001b[0m\u001b[1m       Param #\u001b[0m\u001b[1m \u001b[0m┃\u001b[1m \u001b[0m\u001b[1mConnected to          \u001b[0m\u001b[1m \u001b[0m┃\n",
       "┡━━━━━━━━━━━━━━━━━━━━━━━━━━━╇━━━━━━━━━━━━━━━━━━━━━━━━╇━━━━━━━━━━━━━━━━╇━━━━━━━━━━━━━━━━━━━━━━━━┩\n",
       "│ input_layer (\u001b[38;5;33mInputLayer\u001b[0m)  │ (\u001b[38;5;45mNone\u001b[0m, \u001b[38;5;34m1\u001b[0m)              │              \u001b[38;5;34m0\u001b[0m │ -                      │\n",
       "├───────────────────────────┼────────────────────────┼────────────────┼────────────────────────┤\n",
       "│ input_layer_1             │ (\u001b[38;5;45mNone\u001b[0m, \u001b[38;5;34m1\u001b[0m)              │              \u001b[38;5;34m0\u001b[0m │ -                      │\n",
       "│ (\u001b[38;5;33mInputLayer\u001b[0m)              │                        │                │                        │\n",
       "├───────────────────────────┼────────────────────────┼────────────────┼────────────────────────┤\n",
       "│ word_embedding            │ (\u001b[38;5;45mNone\u001b[0m, \u001b[38;5;34m1\u001b[0m, \u001b[38;5;34m16\u001b[0m)          │        \u001b[38;5;34m320,000\u001b[0m │ input_layer[\u001b[38;5;34m0\u001b[0m][\u001b[38;5;34m0\u001b[0m]      │\n",
       "│ (\u001b[38;5;33mEmbedding\u001b[0m)               │                        │                │                        │\n",
       "├───────────────────────────┼────────────────────────┼────────────────┼────────────────────────┤\n",
       "│ context_embedding         │ (\u001b[38;5;45mNone\u001b[0m, \u001b[38;5;34m1\u001b[0m, \u001b[38;5;34m16\u001b[0m)          │        \u001b[38;5;34m320,000\u001b[0m │ input_layer_1[\u001b[38;5;34m0\u001b[0m][\u001b[38;5;34m0\u001b[0m]    │\n",
       "│ (\u001b[38;5;33mEmbedding\u001b[0m)               │                        │                │                        │\n",
       "├───────────────────────────┼────────────────────────┼────────────────┼────────────────────────┤\n",
       "│ reshape (\u001b[38;5;33mReshape\u001b[0m)         │ (\u001b[38;5;45mNone\u001b[0m, \u001b[38;5;34m16\u001b[0m)             │              \u001b[38;5;34m0\u001b[0m │ word_embedding[\u001b[38;5;34m0\u001b[0m][\u001b[38;5;34m0\u001b[0m]   │\n",
       "├───────────────────────────┼────────────────────────┼────────────────┼────────────────────────┤\n",
       "│ reshape_1 (\u001b[38;5;33mReshape\u001b[0m)       │ (\u001b[38;5;45mNone\u001b[0m, \u001b[38;5;34m16\u001b[0m)             │              \u001b[38;5;34m0\u001b[0m │ context_embedding[\u001b[38;5;34m0\u001b[0m][\u001b[38;5;34m…\u001b[0m │\n",
       "├───────────────────────────┼────────────────────────┼────────────────┼────────────────────────┤\n",
       "│ dot (\u001b[38;5;33mDot\u001b[0m)                 │ (\u001b[38;5;45mNone\u001b[0m, \u001b[38;5;34m1\u001b[0m)              │              \u001b[38;5;34m0\u001b[0m │ reshape[\u001b[38;5;34m0\u001b[0m][\u001b[38;5;34m0\u001b[0m],         │\n",
       "│                           │                        │                │ reshape_1[\u001b[38;5;34m0\u001b[0m][\u001b[38;5;34m0\u001b[0m]        │\n",
       "├───────────────────────────┼────────────────────────┼────────────────┼────────────────────────┤\n",
       "│ dense (\u001b[38;5;33mDense\u001b[0m)             │ (\u001b[38;5;45mNone\u001b[0m, \u001b[38;5;34m1\u001b[0m)              │              \u001b[38;5;34m2\u001b[0m │ dot[\u001b[38;5;34m0\u001b[0m][\u001b[38;5;34m0\u001b[0m]              │\n",
       "└───────────────────────────┴────────────────────────┴────────────────┴────────────────────────┘\n"
      ]
     },
     "metadata": {},
     "output_type": "display_data"
    },
    {
     "data": {
      "text/html": [
       "<pre style=\"white-space:pre;overflow-x:auto;line-height:normal;font-family:Menlo,'DejaVu Sans Mono',consolas,'Courier New',monospace\"><span style=\"font-weight: bold\"> Total params: </span><span style=\"color: #00af00; text-decoration-color: #00af00\">640,002</span> (2.44 MB)\n",
       "</pre>\n"
      ],
      "text/plain": [
       "\u001b[1m Total params: \u001b[0m\u001b[38;5;34m640,002\u001b[0m (2.44 MB)\n"
      ]
     },
     "metadata": {},
     "output_type": "display_data"
    },
    {
     "data": {
      "text/html": [
       "<pre style=\"white-space:pre;overflow-x:auto;line-height:normal;font-family:Menlo,'DejaVu Sans Mono',consolas,'Courier New',monospace\"><span style=\"font-weight: bold\"> Trainable params: </span><span style=\"color: #00af00; text-decoration-color: #00af00\">640,002</span> (2.44 MB)\n",
       "</pre>\n"
      ],
      "text/plain": [
       "\u001b[1m Trainable params: \u001b[0m\u001b[38;5;34m640,002\u001b[0m (2.44 MB)\n"
      ]
     },
     "metadata": {},
     "output_type": "display_data"
    },
    {
     "data": {
      "text/html": [
       "<pre style=\"white-space:pre;overflow-x:auto;line-height:normal;font-family:Menlo,'DejaVu Sans Mono',consolas,'Courier New',monospace\"><span style=\"font-weight: bold\"> Non-trainable params: </span><span style=\"color: #00af00; text-decoration-color: #00af00\">0</span> (0.00 B)\n",
       "</pre>\n"
      ],
      "text/plain": [
       "\u001b[1m Non-trainable params: \u001b[0m\u001b[38;5;34m0\u001b[0m (0.00 B)\n"
      ]
     },
     "metadata": {},
     "output_type": "display_data"
    }
   ],
   "source": [
    "# Your code here\n",
    "from tensorflow.keras.layers import Input, Dense, Reshape, Embedding, Dot, Activation\n",
    "from tensorflow.keras.optimizers import Adam\n",
    "\n",
    "embedding_dim = 16 # Define the embedding dimension\n",
    "\n",
    "# Build model for target words\n",
    "word_input = Input(shape=(1,))\n",
    "word_embedding = Embedding(vocab_size, embedding_dim, name=\"word_embedding\")(word_input)\n",
    "word_embedding = Reshape((embedding_dim,))(word_embedding)\n",
    "\n",
    "# Build model for context words\n",
    "context_input = Input(shape=(1,))\n",
    "context_embedding = Embedding(vocab_size, embedding_dim, name=\"context_embedding\")(context_input)\n",
    "context_embedding = Reshape((embedding_dim,))(context_embedding)\n",
    "\n",
    "# Calculate the dot product and apply the sigmoid to the dot product\n",
    "dot_product = Dot(axes=1)([word_embedding, context_embedding])\n",
    "dot_product = Dense(1,activation=\"sigmoid\")(dot_product) # Output a scalar\n",
    "\n",
    "\n",
    "# Build the w2v_model with [word_model.input, context_model.input] as input and sigmoid_dot_product as output\n",
    "w2v_model = Model(inputs=[word_input, context_input], outputs=dot_product)\n",
    "\n",
    "# Compile the model\n",
    "learning_rate = 0.0005\n",
    "optimizer = Adam(learning_rate = learning_rate)\n",
    "w2v_model.compile(loss='binary_crossentropy', optimizer=optimizer, metrics=['accuracy']) # Choose binary crossentropy as loss and adam as optimizer\n",
    "\n",
    "# Look at the summary of the model\n",
    "w2v_model.summary()\n",
    "\n"
   ]
  },
  {
   "cell_type": "code",
   "execution_count": 11,
   "metadata": {
    "collapsed": true,
    "id": "lqV9vx3vQLGV",
    "jupyter": {
     "outputs_hidden": true
    }
   },
   "outputs": [],
   "source": [
    "# create the training dataset with word_center, word_context and labels\n",
    "couples = np.array(couples)\n",
    "labels = np.array(labels)\n",
    "\n",
    "batch_size = 512\n",
    "\n",
    "dataset = tf.data.Dataset.from_tensor_slices(((couples[:,0], couples[:,1]), labels))\n",
    "dataset = dataset.shuffle(buffer_size=len(couples))\n",
    "dataset = dataset.batch(batch_size)\n",
    "dataset = dataset.prefetch(buffer_size=tf.data.experimental.AUTOTUNE)\n"
   ]
  },
  {
   "cell_type": "code",
   "execution_count": 12,
   "metadata": {
    "colab": {
     "base_uri": "https://localhost:8080/"
    },
    "id": "DzSs1rPWB16q",
    "outputId": "299269ca-e2f9-4a4c-a252-371c6c49199f"
   },
   "outputs": [
    {
     "name": "stdout",
     "output_type": "stream",
     "text": [
      "Epoch 1/15\n",
      "\u001b[1m82975/82975\u001b[0m \u001b[32m━━━━━━━━━━━━━━━━━━━━\u001b[0m\u001b[37m\u001b[0m \u001b[1m358s\u001b[0m 3ms/step - accuracy: 0.8242 - loss: 0.3850\n",
      "Epoch 2/15\n",
      "\u001b[1m82975/82975\u001b[0m \u001b[32m━━━━━━━━━━━━━━━━━━━━\u001b[0m\u001b[37m\u001b[0m \u001b[1m353s\u001b[0m 3ms/step - accuracy: 0.8518 - loss: 0.3396\n",
      "Epoch 3/15\n",
      "\u001b[1m82975/82975\u001b[0m \u001b[32m━━━━━━━━━━━━━━━━━━━━\u001b[0m\u001b[37m\u001b[0m \u001b[1m399s\u001b[0m 3ms/step - accuracy: 0.8604 - loss: 0.3232\n",
      "Epoch 4/15\n",
      "\u001b[1m82975/82975\u001b[0m \u001b[32m━━━━━━━━━━━━━━━━━━━━\u001b[0m\u001b[37m\u001b[0m \u001b[1m380s\u001b[0m 3ms/step - accuracy: 0.8659 - loss: 0.3115\n",
      "Epoch 5/15\n",
      "\u001b[1m82975/82975\u001b[0m \u001b[32m━━━━━━━━━━━━━━━━━━━━\u001b[0m\u001b[37m\u001b[0m \u001b[1m382s\u001b[0m 3ms/step - accuracy: 0.8694 - loss: 0.3036\n",
      "Epoch 6/15\n",
      "\u001b[1m82975/82975\u001b[0m \u001b[32m━━━━━━━━━━━━━━━━━━━━\u001b[0m\u001b[37m\u001b[0m \u001b[1m378s\u001b[0m 3ms/step - accuracy: 0.8718 - loss: 0.2986\n",
      "Epoch 7/15\n",
      "\u001b[1m82975/82975\u001b[0m \u001b[32m━━━━━━━━━━━━━━━━━━━━\u001b[0m\u001b[37m\u001b[0m \u001b[1m379s\u001b[0m 3ms/step - accuracy: 0.8733 - loss: 0.2952\n",
      "Epoch 8/15\n",
      "\u001b[1m82975/82975\u001b[0m \u001b[32m━━━━━━━━━━━━━━━━━━━━\u001b[0m\u001b[37m\u001b[0m \u001b[1m377s\u001b[0m 3ms/step - accuracy: 0.8747 - loss: 0.2924\n",
      "Epoch 9/15\n",
      "\u001b[1m82975/82975\u001b[0m \u001b[32m━━━━━━━━━━━━━━━━━━━━\u001b[0m\u001b[37m\u001b[0m \u001b[1m380s\u001b[0m 3ms/step - accuracy: 0.8756 - loss: 0.2903\n",
      "Epoch 10/15\n",
      "\u001b[1m82975/82975\u001b[0m \u001b[32m━━━━━━━━━━━━━━━━━━━━\u001b[0m\u001b[37m\u001b[0m \u001b[1m382s\u001b[0m 3ms/step - accuracy: 0.8764 - loss: 0.2886\n",
      "Epoch 11/15\n",
      "\u001b[1m82975/82975\u001b[0m \u001b[32m━━━━━━━━━━━━━━━━━━━━\u001b[0m\u001b[37m\u001b[0m \u001b[1m377s\u001b[0m 3ms/step - accuracy: 0.8772 - loss: 0.2870\n",
      "Epoch 12/15\n",
      "\u001b[1m82975/82975\u001b[0m \u001b[32m━━━━━━━━━━━━━━━━━━━━\u001b[0m\u001b[37m\u001b[0m \u001b[1m371s\u001b[0m 3ms/step - accuracy: 0.8778 - loss: 0.2859\n",
      "Epoch 13/15\n",
      "\u001b[1m82975/82975\u001b[0m \u001b[32m━━━━━━━━━━━━━━━━━━━━\u001b[0m\u001b[37m\u001b[0m \u001b[1m376s\u001b[0m 3ms/step - accuracy: 0.8782 - loss: 0.2850\n",
      "Epoch 14/15\n",
      "\u001b[1m82975/82975\u001b[0m \u001b[32m━━━━━━━━━━━━━━━━━━━━\u001b[0m\u001b[37m\u001b[0m \u001b[1m368s\u001b[0m 3ms/step - accuracy: 0.8786 - loss: 0.2841\n",
      "Epoch 15/15\n",
      "\u001b[1m82975/82975\u001b[0m \u001b[32m━━━━━━━━━━━━━━━━━━━━\u001b[0m\u001b[37m\u001b[0m \u001b[1m376s\u001b[0m 3ms/step - accuracy: 0.8789 - loss: 0.2834\n"
     ]
    },
    {
     "data": {
      "text/plain": [
       "<keras.src.callbacks.history.History at 0x7bc6ec06ed70>"
      ]
     },
     "execution_count": 12,
     "metadata": {},
     "output_type": "execute_result"
    }
   ],
   "source": [
    "# Train the model\n",
    "from tensorflow.keras.callbacks import EarlyStopping\n",
    "\n",
    "num_epochs = 15\n",
    "\n",
    "early_stopping = EarlyStopping(monitor='loss', patience=3, restore_best_weights=True)\n",
    "\n",
    "w2v_model.fit(dataset, epochs=num_epochs, batch_size=batch_size, callbacks=[early_stopping])"
   ]
  },
  {
   "cell_type": "code",
   "execution_count": 18,
   "metadata": {
    "id": "Uz02M0rPMnIh"
   },
   "outputs": [],
   "source": [
    "# Save the trained weights\n",
    "w2v_model.save_weights('w2v_model.weights.h5')\n"
   ]
  },
  {
   "cell_type": "code",
   "execution_count": 19,
   "metadata": {
    "id": "9yyVA5XPLKGg"
   },
   "outputs": [],
   "source": [
    "# Load the trained weights\n",
    "w2v_model.load_weights('w2v_model.weights.h5')"
   ]
  },
  {
   "cell_type": "markdown",
   "metadata": {
    "id": "FL307rYXnEpf"
   },
   "source": [
    "<div class=\"alert alert-block alert-danger\" style=\"color:black;background-color:#E7F4FA\">\n",
    "\n",
    "#### **1.3 [7 points] Post-training analysis**\n",
    "    \n",
    "This segment involves some simple analysis of your trained embeddings.\n"
   ]
  },
  {
   "cell_type": "markdown",
   "metadata": {
    "id": "hewaWCXH-Kma"
   },
   "source": [
    "    \n",
    "**1.3.1** - Vector Algebra on Embeddings\n",
    "\n",
    "Assuming you have chosen a sufficiently large `vocab_size`, find the embeddings for:\n",
    "    \n",
    "1. King\n",
    "2. Male\n",
    "3. Female\n",
    "4. Queen\n",
    "    \n",
    "Find the vector `v = King - Male + Female` and find its `cosine_similarity()` with the embedding for 'Queen'.\n",
    "You can use the `cosine_similarity()` function defined in the session 3 exercise.\n",
    "\n",
    "**NOTE**:The `cosine_similarity()` value, must be greater than `0.9`; If it is not, this implies that your word2vec embeddings are not well-trained.\n",
    "\n",
    "Write a function `most_similar()`, which finds the top-n words most similar to the given word. Use this function to find the words most similar to `king`.\n",
    "    <br />\n",
    "    <br />\n",
    "    \n",
    "**Conceptual Question** Why can't we use `cosine_similarity()` as a `loss_function`?\n",
    "    \n",
    "<br />\n",
    "    \n",
    "</div>"
   ]
  },
  {
   "cell_type": "code",
   "execution_count": 13,
   "metadata": {
    "colab": {
     "base_uri": "https://localhost:8080/"
    },
    "id": "1U62Yi3cnEpf",
    "outputId": "e640dc5a-70e2-4b17-e034-ac98c2584242"
   },
   "outputs": [
    {
     "name": "stdout",
     "output_type": "stream",
     "text": [
      "The cosine similarity between v and the word queen is  [[0.9084299]]\n"
     ]
    }
   ],
   "source": [
    "# Your code here\n",
    "\n",
    "# Find the token of the words\n",
    "king = dictionary['king']\n",
    "male = dictionary['male']\n",
    "female = dictionary['female']\n",
    "queen = dictionary['queen']\n",
    "\n",
    "# Find the embedding for the words\n",
    "embedding_layer = w2v_model.get_layer('word_embedding')\n",
    "embedding_weights = embedding_layer.get_weights()[0]\n",
    "\n",
    "king_embedding = embedding_weights[king]\n",
    "male_embedding = embedding_weights[male]\n",
    "female_embedding = embedding_weights[female]\n",
    "queen_embedding = embedding_weights[queen]\n",
    "\n",
    "# Define the custom vector v\n",
    "v = king_embedding - male_embedding + female_embedding\n",
    "\n",
    "# Find the cosine_similarity of v and queen_embedding\n",
    "print(\"The cosine similarity between v and the word queen is \", cosine_similarity([v], [queen_embedding]))"
   ]
  },
  {
   "cell_type": "code",
   "execution_count": 20,
   "metadata": {
    "colab": {
     "base_uri": "https://localhost:8080/"
    },
    "id": "5xpr8Qr1B9uc",
    "outputId": "fe7ee1a9-641a-4f91-f7d8-3d8e1766c4b0"
   },
   "outputs": [
    {
     "name": "stdout",
     "output_type": "stream",
     "text": [
      "Top 10 most similar words to king:  [('king', array([[0.99999994]], dtype=float32)), ('vii', array([[0.9589078]], dtype=float32)), ('pretender', array([[0.9576765]], dtype=float32)), ('kazimierz', array([[0.9575622]], dtype=float32)), ('aquitaine', array([[0.9574959]], dtype=float32)), ('eldest', array([[0.9552106]], dtype=float32)), ('consort', array([[0.9549319]], dtype=float32)), ('jehoram', array([[0.9536752]], dtype=float32)), ('prince', array([[0.95176154]], dtype=float32)), ('empress', array([[0.9517124]], dtype=float32))]\n"
     ]
    }
   ],
   "source": [
    "# Find the most similar words with king\n",
    "def most_similar(target_word, n_most = 10):\n",
    "\n",
    "  temp = {}\n",
    "\n",
    "  for idx in range(1, len(embedding_weights)):\n",
    "    temp[reverse_dictionary[idx]] = cosine_similarity([embedding_weights[dictionary[target_word]]], [embedding_weights[idx]])\n",
    "\n",
    "  temp = sorted(temp.items(), key=lambda x: x[1], reverse=True)\n",
    "  return temp[:n_most]\n",
    "\n",
    "king_most_similar = most_similar('king')\n",
    "\n",
    "print('Top 10 most similar words to king: ', king_most_similar)"
   ]
  },
  {
   "cell_type": "markdown",
   "metadata": {
    "id": "PQ9ASrt4nEpf"
   },
   "source": [
    "<div class=\"alert alert-block alert-danger\" style=\"color:black;background-color:#E7F4FA\">\n",
    "\n",
    "    \n",
    "**1.3.2** - Visualizing Embeddings\n",
    "\n",
    "Find the embeddings for the words:\n",
    "1. 'January'\n",
    "2. 'February'\n",
    "3. 'March'\n",
    "4. 'April'\n",
    "    \n",
    "Find the `cosine_similarity()` of 'january' with each of 'february`, 'march', 'april' (which should be high values).\n",
    "    \n",
    "Save your trained weights. Recreate the network you have created above and initialize it with random weights. Compute the `cosine_similarity()` values. The values should be small (because the embeddings are random).\n",
    "    \n",
    "Use a demonstrative plot to show the `before & after` of the 4 embeddings. Here are some suggestions:\n",
    "    1. PCA/TSNE for dimensionality reduction\n",
    "    2. Radar plot to show all embedding dimensions\n",
    "    \n",
    "Bonus points for using creative means to demonstrate how the embeddings change after training.\n",
    "\n",
    "Here is a [video](https://youtu.be/VDl_iA8m8u0) of a sample demonstration. We used a custom callback to get embeddings during training.  \n",
    "            \n",
    "</div>"
   ]
  },
  {
   "cell_type": "code",
   "execution_count": 21,
   "metadata": {
    "colab": {
     "base_uri": "https://localhost:8080/"
    },
    "id": "saIXp8MbnEpf",
    "outputId": "003814cf-085a-4d5c-804f-38d012a7f158"
   },
   "outputs": [
    {
     "name": "stdout",
     "output_type": "stream",
     "text": [
      "The cosine similarity between january and febuary is  [[0.9613031]]\n",
      "The cosine similarity between january and march is  [[0.9486748]]\n",
      "The cosine similarity between january and april is  [[0.9802075]]\n"
     ]
    }
   ],
   "source": [
    "# Your code here\n",
    "\n",
    "# Find the token of the words\n",
    "january = dictionary['january']\n",
    "february = dictionary['february']\n",
    "march = dictionary['march']\n",
    "april = dictionary['april']\n",
    "\n",
    "# Find the embedding of the words\n",
    "embedding_layer = w2v_model.get_layer('word_embedding')\n",
    "embedding_weights = embedding_layer.get_weights()[0]\n",
    "\n",
    "january_embedding = embedding_weights[january]\n",
    "febuary_embedding = embedding_weights[february]\n",
    "march_embedding = embedding_weights[march]\n",
    "april_embedding = embedding_weights[april]\n",
    "\n",
    "# Find and print the cosine similarity\n",
    "print(\"The cosine similarity between january and febuary is \", cosine_similarity([january_embedding], [febuary_embedding]))\n",
    "print(\"The cosine similarity between january and march is \", cosine_similarity([january_embedding], [march_embedding]))\n",
    "print(\"The cosine similarity between january and april is \", cosine_similarity([january_embedding], [april_embedding]))"
   ]
  },
  {
   "cell_type": "code",
   "execution_count": 22,
   "metadata": {
    "id": "A5dDWWW7Sv5N"
   },
   "outputs": [],
   "source": [
    "# Rebuild the model with random weights\n",
    "\n",
    "# Build model for target words\n",
    "word_input = Input(shape=(1,))\n",
    "word_embedding = Embedding(vocab_size, embedding_dim, name=\"word_embedding\")(word_input)\n",
    "word_embedding = Reshape((embedding_dim,))(word_embedding)\n",
    "\n",
    "# Build model for context words\n",
    "context_input = Input(shape=(1,))\n",
    "context_embedding = Embedding(vocab_size, embedding_dim, name=\"context_embedding\")(context_input)\n",
    "context_embedding = Reshape((embedding_dim,))(context_embedding)\n",
    "\n",
    "# Calculate the dot product and apply the sigmoid to the dot product\n",
    "dot_product = Dot(axes=1)([word_embedding, context_embedding])\n",
    "dot_product = Dense(1,activation=\"sigmoid\")(dot_product) # Output a scalar\n",
    "\n",
    "\n",
    "# Build the w2v_model with [word_model.input, context_model.input] as input and sigmoid_dot_product as output\n",
    "w2v_model = Model(inputs=[word_input, context_input], outputs=dot_product)\n",
    "\n",
    "# Compile the model\n",
    "learning_rate = 0.001\n",
    "optimizer = Adam(learning_rate = learning_rate)\n",
    "w2v_model.compile(loss='binary_crossentropy', optimizer=optimizer, metrics=['accuracy'])\n",
    "\n"
   ]
  },
  {
   "cell_type": "code",
   "execution_count": 23,
   "metadata": {
    "colab": {
     "base_uri": "https://localhost:8080/"
    },
    "id": "kTMt16FYLMzn",
    "outputId": "b3a8955a-c284-4107-d82d-c149237634f2"
   },
   "outputs": [
    {
     "name": "stdout",
     "output_type": "stream",
     "text": [
      "The cosine similarity between january and febuary with random weights is  [[0.3913076]]\n",
      "The cosine similarity between january and march with random weights is  [[0.2785447]]\n",
      "The cosine similarity between january and april with random weights is  [[0.08964897]]\n"
     ]
    }
   ],
   "source": [
    "# Get the weights of the model\n",
    "embedding_layer_rd = w2v_model.get_layer('word_embedding')\n",
    "embedding_weights_rd = embedding_layer_rd.get_weights()[0]\n",
    "\n",
    "# Find the embedding of the words\n",
    "january_embedding_rd = embedding_weights_rd[january]\n",
    "febuary_embedding_rd = embedding_weights_rd[february]\n",
    "march_embedding_rd = embedding_weights_rd[march]\n",
    "april_embedding_rd = embedding_weights_rd[april]\n",
    "\n",
    "# Find and print the cosine similarity\n",
    "print(\"The cosine similarity between january and febuary with random weights is \", cosine_similarity([january_embedding_rd], [febuary_embedding_rd]))\n",
    "print(\"The cosine similarity between january and march with random weights is \", cosine_similarity([january_embedding_rd], [march_embedding_rd]))\n",
    "print(\"The cosine similarity between january and april with random weights is \", cosine_similarity([january_embedding_rd], [april_embedding_rd]))"
   ]
  },
  {
   "cell_type": "code",
   "execution_count": 26,
   "metadata": {
    "colab": {
     "base_uri": "https://localhost:8080/",
     "height": 545
    },
    "id": "UMqZyQH8ZOAd",
    "outputId": "166077c2-7918-4da5-fd14-abf9c45b7d13"
   },
   "outputs": [
    {
     "data": {
      "image/png": "[encoded data removed]",
      "text/plain": [
       "<Figure size 1000x600 with 1 Axes>"
      ]
     },
     "metadata": {},
     "output_type": "display_data"
    }
   ],
   "source": [
    "# Initialize the word list\n",
    "words = ['january', 'february', 'march', 'april']\n",
    "\n",
    "# Visualize the embeddings before and after training\n",
    "from sklearn.decomposition import PCA\n",
    "\n",
    "pca = PCA(n_components=2)\n",
    "\n",
    "# Reduce dimensions for both sets of embeddings\n",
    "reduced_embeddings = pca.fit_transform(embedding_weights)\n",
    "reduced_embeddings_rd = pca.fit_transform(embedding_weights_rd)\n",
    "\n",
    "plt.figure(figsize=(10, 6))\n",
    "\n",
    "# Plot embeddings after training\n",
    "for i, label in enumerate(words):\n",
    "    x, y = reduced_embeddings[i]\n",
    "    plt.scatter(x, y, color='blue', label='Trained Weights' if i == 0 else \"\")\n",
    "    plt.text(x + 0.01, y + 0.01, label, fontsize=12, color='blue')\n",
    "\n",
    "# Plot embeddings with random weights (plot B)\n",
    "for i, label in enumerate(words):\n",
    "    x, y = reduced_embeddings_rd[i]\n",
    "    plt.scatter(x, y, color='red', label='Random Weights' if i == 0 else \"\")\n",
    "    plt.text(x + 0.01, y + 0.01, label, fontsize=12, color='red')\n",
    "\n",
    "plt.title('Comparison of Embeddings Before and After Training')\n",
    "plt.legend()\n",
    "plt.show()"
   ]
  },
  {
   "cell_type": "code",
   "execution_count": 25,
   "metadata": {
    "colab": {
     "base_uri": "https://localhost:8080/",
     "height": 858
    },
    "id": "HvQ2uMeZdpcB",
    "outputId": "78885655-b30a-4600-ff97-bd7dbb519175"
   },
   "outputs": [
    {
     "name": "stderr",
     "output_type": "stream",
     "text": [
      "<ipython-input-25-9dc7bf5ed4d0>:21: UserWarning: FixedFormatter should only be used together with FixedLocator\n",
      "  ax.set_yticklabels(['january', 'febuary', 'march', 'april'])\n"
     ]
    },
    {
     "data": {
      "image/png": "[encoded data removed]",
      "text/plain": [
       "<Figure size 400x400 with 1 Axes>"
      ]
     },
     "metadata": {},
     "output_type": "display_data"
    },
    {
     "data": {
      "image/png": "[encoded data removed]",
      "text/plain": [
       "<Figure size 400x400 with 1 Axes>"
      ]
     },
     "metadata": {},
     "output_type": "display_data"
    }
   ],
   "source": [
    "# Define data and function for radar plots\n",
    "\n",
    "embeddings = np.array([january_embedding, febuary_embedding, march_embedding, april_embedding])\n",
    "embeddings_rd = np.array([january_embedding_rd, febuary_embedding_rd, march_embedding_rd, april_embedding_rd])\n",
    "\n",
    "def plot_radar(embeddings, title):\n",
    "    num_vars = len(embeddings[0])\n",
    "\n",
    "    # Calculate angles\n",
    "    angles = np.linspace(0, 2 * np.pi, num_vars, endpoint=False).tolist()\n",
    "    angles += angles[:1]\n",
    "\n",
    "    fig, ax = plt.subplots(figsize=(4, 4), subplot_kw=dict(polar=True))\n",
    "\n",
    "    for embedding in embeddings:\n",
    "        values = embedding.tolist()\n",
    "        values += values[:1]\n",
    "        ax.plot(angles, values, linewidth=1, linestyle='solid')\n",
    "        ax.fill(angles, values, alpha=0.25)\n",
    "\n",
    "    ax.set_yticklabels(['january', 'febuary', 'march', 'april'])\n",
    "    ax.set_xticks(angles[:-1])\n",
    "\n",
    "    plt.title(title)\n",
    "    plt.show()\n",
    "\n",
    "# Graph radar plots\n",
    "plot_radar(embeddings, 'Trained Weights')\n",
    "plot_radar(embeddings_rd, 'Random Weights')"
   ]
  },
  {
   "cell_type": "markdown",
   "metadata": {
    "id": "kUaPARcHnEpf"
   },
   "source": [
    "<div class=\"alert alert-block alert-danger\" style=\"color:black;background-color:#E7F4FA\">\n",
    "\n",
    "**1.3.3** - Embedding and Context Matrix\n",
    "    \n",
    "    \n",
    "**1.3.3.1** Investigate the relation between the Embedding & Context matrix. Again use the `cosine_similarity()` function to find the average value across all the words in the embedding and context matrix, i.e:\n",
    "  - For the word 'dog', find the embedding value, and context value. <br>\n",
    "  - Calculate the `cosine_similarity()` between the two <br>\n",
    "  - Repeat the same for every word in the vocabulary and calculate the average value of the `cosine_similarity()`\n",
    "<br />\n",
    "\n",
    "**1.3.3.2** Answer the following question and explain:\n",
    "\n",
    "**Question:** The embedding and context matrices should be identical.\n",
    "<br />\n",
    "    \n",
    "</div>"
   ]
  },
  {
   "cell_type": "code",
   "execution_count": 27,
   "metadata": {
    "colab": {
     "base_uri": "https://localhost:8080/"
    },
    "collapsed": true,
    "id": "z6EXb-MPnEpg",
    "jupyter": {
     "outputs_hidden": true
    },
    "outputId": "cef33788-727b-40bb-f091-86064a26a585"
   },
   "outputs": [
    {
     "name": "stderr",
     "output_type": "stream",
     "text": [
      "/usr/local/lib/python3.10/dist-packages/keras/src/saving/saving_lib.py:576: UserWarning: Skipping variable loading for optimizer 'adam', because it has 2 variables whereas the saved optimizer has 10 variables. \n",
      "  saveable.load_own_variables(weights_store.get(inner_path))\n"
     ]
    },
    {
     "name": "stdout",
     "output_type": "stream",
     "text": [
      "Average cosine similarity across all the words in the embedding and context matrix:  0.29617494\n"
     ]
    }
   ],
   "source": [
    "# Your code here\n",
    "# load the trained weights\n",
    "w2v_model.load_weights('w2v_model.weights.h5')\n",
    "\n",
    "# get the embedding and context layers\n",
    "embedding_layer = w2v_model.get_layer('word_embedding')\n",
    "context_layer = w2v_model.get_layer('context_embedding')\n",
    "\n",
    "# get the weights\n",
    "embedding_weights = embedding_layer.get_weights()[0]\n",
    "context_weights = context_layer.get_weights()[0]\n",
    "\n",
    "# calculate the consine_similarity between the two for all words\n",
    "relation = []\n",
    "\n",
    "for index in range(len(embedding_weights)):\n",
    "    relation.append(cosine_similarity([embedding_weights[index]], [context_weights[index]]))\n",
    "\n",
    "print(\"Average cosine similarity across all the words in the embedding and context matrix: \", np.mean(relation))\n"
   ]
  },
  {
   "cell_type": "markdown",
   "metadata": {
    "id": "aFqSu8sMQzqa"
   },
   "source": [
    "**Answer:** No, the embedding and context matrices are not idential, because they carry different purposes. The function of embedding matrix is to capture the overall semantic meaning, while the purporse of context matrix is to capture the relationship between the words and their contexts, representing how it relates to other words."
   ]
  },
  {
   "cell_type": "markdown",
   "metadata": {
    "id": "pqs5Wv69nEpg"
   },
   "source": [
    "<div class=\"alert alert-block alert-danger\" style=\"color:black;background-color:#E7F4FA\">\n",
    "\n",
    "#### **1.4 [5 points] Learning phrases**\n",
    "    \n",
    "As per the original paper by [Mikolov et al](https://arxiv.org/abs/1301.3781) many phrases have a meaning that is not a simple composition of the meanings of their individual words.\n",
    "For eg. `new york` is one entity, however, as per our analysis above, we have two separate entities `new` & `york` which can have different meanings independently.    \n",
    "To learn vector representation for phrases, we first find words that\n",
    "appear frequently together, and infrequently in other contexts.\n",
    "    \n",
    "As per the analysis in the paper, we can use a formula to rank commonly used word pairs, and take the first 100 commonly occurring pairs.\n",
    "$$\\operatorname{score}\\left(w_{i}, w_{j}\\right)=\\frac{\\operatorname{count}\\left(w_{i} w_{j}\\right)-\\delta}{\\operatorname{count}\\left(w_{i}\\right) \\times \\operatorname{count}\\left(w_{j}\\right)}$$\n",
    "\n",
    "**NOTE:** For simplicity of analysis, we take the discounting factor $\\delta$ as 0, and take bi-gram combinations. You can experiment with tri-grams for word pairs such as `New_York_Times`.     \n",
    "    \n",
    "</div>"
   ]
  },
  {
   "cell_type": "markdown",
   "metadata": {
    "id": "1Sjtftrm-aiA"
   },
   "source": [
    "**1.4.1** - Find 100 most common bi-grams\n",
    "\n",
    "From the tokenized data above, find the count for each bigram pair.\n",
    "    \n",
    "For each such pair, find the score associated with each token pair using the formula above.\n",
    "    \n",
    " Pick the top 100 pairs based on the score. (Higher the better). To understand the `score()` function we suggest you read the paper mentioned above.\n",
    "    \n",
    "Replace the original `text8` file with the pairs as one entity. E.g., if `prime, minister` is a commonly occurring pair, replace `... prime minister ...' in the original corpus with a single entity `prime_minister`. Do this for all 100 pairs."
   ]
  },
  {
   "cell_type": "code",
   "execution_count": 28,
   "metadata": {
    "id": "hsS-DAHunEpg"
   },
   "outputs": [],
   "source": [
    "# Get the training data again\n",
    "# Download and unzip\n",
    "urllib.request.urlretrieve(\"https://github.com/dlops-io/datasets/releases/download/v1.0/text8.zip\", \"text8.zip\")\n",
    "\n",
    "filename = 'text8.zip'\n",
    "with zipfile.ZipFile(filename) as f:\n",
    "# Read the data into a list of strings.\n",
    "    super_text = tf.compat.as_str(f.read(f.namelist()[0]))"
   ]
  },
  {
   "cell_type": "code",
   "execution_count": 29,
   "metadata": {
    "id": "SlF964llnEpg"
   },
   "outputs": [],
   "source": [
    "# Fill in to complete this function\n",
    "def build_dataset(words, n_words):\n",
    "    \"\"\"Process raw inputs into a dataset.\"\"\"\n",
    "\n",
    "    tokenizer = Tokenizer(num_words=n_words, oov_token='<unk>', filters='')\n",
    "\n",
    "    tokenizer.fit_on_texts(words)\n",
    "    data = tokenizer.texts_to_sequences(words)\n",
    "    data = [token[0] for token in data]\n",
    "    count = tokenizer.word_counts\n",
    "    dictionary = tokenizer.word_index\n",
    "    reverse_dictionary = tokenizer.index_word\n",
    "\n",
    "    return data, count, dictionary, reverse_dictionary"
   ]
  },
  {
   "cell_type": "code",
   "execution_count": 30,
   "metadata": {
    "id": "IWLH069lnEpg"
   },
   "outputs": [],
   "source": [
    "# Make sure to use lower case and split as before\n",
    "corpus = super_text.lower().split()\n",
    "data, count, dictionary, reverse_dictionary = build_dataset(corpus,6000)"
   ]
  },
  {
   "cell_type": "code",
   "execution_count": 35,
   "metadata": {
    "id": "fVE8o24enEpg"
   },
   "outputs": [],
   "source": [
    "# Your code here\n",
    "# Create a dictionary of bigrams and counts\n",
    "bigrams = {}\n",
    "\n",
    "for i in range(len(data) - 1):\n",
    "    bigram = (data[i], data[i + 1])\n",
    "    if bigram in bigrams:\n",
    "        bigrams[bigram] += 1\n",
    "    else:\n",
    "        bigrams[bigram] = 1\n",
    "\n",
    "# Calculate bigram scores\n",
    "bigram_score = {}\n",
    "\n",
    "for (w1, w2), counts in list(bigrams.items()):\n",
    "  if counts > 500:      # Make sure the bigram is a commonly used word\n",
    "    if reverse_dictionary[w1] in count and reverse_dictionary[w2] in count:\n",
    "      bigram_score[(w1, w2)] = counts / (count[reverse_dictionary[w1]] * count[reverse_dictionary[w2]])\n",
    "\n",
    "# Select the top 100 highest scoring bigrams\n",
    "top_100_bigrams = sorted(bigram_score.items(), key=lambda x: x[1], reverse=True)[:100]\n"
   ]
  },
  {
   "cell_type": "code",
   "execution_count": 36,
   "metadata": {
    "colab": {
     "base_uri": "https://localhost:8080/"
    },
    "id": "kk_4Th4hR3KW",
    "outputId": "34da4b64-1602-43e5-a860-c8c48434555a"
   },
   "outputs": [
    {
     "name": "stdout",
     "output_type": "stream",
     "text": [
      "Top 10 bigrams: ['hip hop', 'los angeles', 'hong kong', 'mac os', 'http www', 'prize laureate', 'san francisco', 'nobel prize', 'prime minister', 'middle ages']\n"
     ]
    }
   ],
   "source": [
    "# Visualize top_10_bigrams\n",
    "top_10_bigrams = top_100_bigrams[:10]\n",
    "top_10_bigrams = [reverse_dictionary[bigram[0]]+\" \"+reverse_dictionary[bigram[1]]  for bigram, score in top_10_bigrams]\n",
    "\n",
    "print('Top 10 bigrams:', top_10_bigrams)"
   ]
  },
  {
   "cell_type": "code",
   "execution_count": 37,
   "metadata": {
    "id": "219qvJop9X6R"
   },
   "outputs": [],
   "source": [
    "# replace the common bigrams in the corpus\n",
    "new_corpus = []\n",
    "i = 0\n",
    "while i < len(corpus):\n",
    "    if i < len(corpus) - 1 and (dictionary[corpus[i]], dictionary[corpus[i + 1]]) in [bigram for bigram, score in top_100_bigrams]:\n",
    "        new_corpus.append(corpus[i]+'_'+corpus[i + 1])\n",
    "        i += 2\n",
    "    else:\n",
    "        new_corpus.append(corpus[i])\n",
    "        i += 1"
   ]
  },
  {
   "cell_type": "code",
   "execution_count": 38,
   "metadata": {
    "id": "NvOk8A1JdBd5"
   },
   "outputs": [],
   "source": [
    "# Delete courpus to free up space\n",
    "del corpus"
   ]
  },
  {
   "cell_type": "markdown",
   "metadata": {
    "id": "keO_nvMmnEpg"
   },
   "source": [
    "<div class=\"alert alert-block alert-danger\" style=\"color:black;background-color:#E7F4FA\">\n",
    "\n",
    "**1.4.2** - Retrain word2vec   \n",
    "With the new corpus generated as above, build the dataset, use skipgrams and retrain your word2vec with a sufficiently large vocabulary.\n",
    "\n",
    "Write a function `most_dissimilar()`, similar to the `most_similar()` function, however this finds the top-n words which are **most dissimilar** to the given word.\n",
    "Use this function defined above to find the entities most dissimilar to `united_kingdom`\n",
    "    \n",
    "Compare the above with separate tokens for `united` & `kingdom` and the sum of the vectors (to get this, you may need a sufficiently large vocabulary (>2000).\n",
    "<br />\n",
    "\n",
    "</div>"
   ]
  },
  {
   "cell_type": "code",
   "execution_count": 39,
   "metadata": {
    "collapsed": true,
    "id": "nJRoBy5AnEpg",
    "jupyter": {
     "outputs_hidden": true
    }
   },
   "outputs": [],
   "source": [
    "# Your code here\n",
    "from tensorflow.keras.preprocessing.sequence import skipgrams\n",
    "from tensorflow.keras.preprocessing.sequence import make_sampling_table\n",
    "\n",
    "# Build the dataset\n",
    "vocab_size = 10000\n",
    "\n",
    "data, count, dictionary, reverse_dictionary = build_dataset(new_corpus,vocab_size)\n",
    "\n",
    "# Create skipgrams\n",
    "sampling_table = make_sampling_table(vocab_size) # Create sampling table to downsample higher frequency words\n",
    "\n",
    "window_size = 3 # Define a window size of 3\n",
    "couples, labels = skipgrams(sequence= data, vocabulary_size= vocab_size, window_size= window_size, negative_samples= 1, sampling_table= sampling_table)\n",
    "\n",
    "# Separate the target,context pairs as word_target, word_context\n",
    "word_center = [pair[0] for pair in couples]\n",
    "word_context = [pair[1] for pair in couples]\n",
    "\n"
   ]
  },
  {
   "cell_type": "code",
   "execution_count": 40,
   "metadata": {
    "id": "oWb-PGehclDn"
   },
   "outputs": [],
   "source": [
    "# Redefine the model, same code as 1.2\n",
    "from tensorflow.keras.layers import Input, Dense, Reshape, Embedding, Dot, Activation\n",
    "from tensorflow.keras.optimizers import Adam\n",
    "\n",
    "embedding_dim = 32 # Define the embedding dimension\n",
    "\n",
    "# Build model for target words\n",
    "word_input = Input(shape=(1,))\n",
    "word_embedding = Embedding(vocab_size, embedding_dim, name=\"word_embedding\")(word_input)\n",
    "word_embedding = Reshape((embedding_dim,))(word_embedding)\n",
    "\n",
    "# Build model for context words\n",
    "context_input = Input(shape=(1,))\n",
    "context_embedding = Embedding(vocab_size, embedding_dim, name=\"context_embedding\")(context_input)\n",
    "context_embedding = Reshape((embedding_dim,))(context_embedding)\n",
    "\n",
    "# Calculate the dot product and apply the sigmoid to the dot product\n",
    "dot_product = Dot(axes=1)([word_embedding, context_embedding])\n",
    "dot_product = Dense(1,activation=\"sigmoid\")(dot_product) # Output a scalar\n",
    "\n",
    "\n",
    "# Build the w2v_model with [word_model.input, context_model.input] as input and sigmoid_dot_product as output\n",
    "w2v_model = Model(inputs=[word_input, context_input], outputs=dot_product)\n",
    "\n",
    "# Compile the model\n",
    "learning_rate = 0.001\n",
    "optimizer = Adam(learning_rate = learning_rate)\n",
    "w2v_model.compile(loss='binary_crossentropy', optimizer=optimizer, metrics=['accuracy']) # Choose binary crossentropy as loss and adam as optimizer\n",
    "\n",
    "# Create the training dataset with word_center, word_context and labels\n",
    "couples = np.array(couples)\n",
    "labels = np.array(labels)\n",
    "\n",
    "batch_size = 1024\n",
    "\n",
    "dataset = tf.data.Dataset.from_tensor_slices(((couples[:,0], couples[:,1]), labels))\n",
    "dataset = dataset.shuffle(buffer_size=len(couples))\n",
    "dataset = dataset.batch(batch_size)\n",
    "dataset = dataset.prefetch(buffer_size=tf.data.experimental.AUTOTUNE)\n"
   ]
  },
  {
   "cell_type": "code",
   "execution_count": null,
   "metadata": {
    "colab": {
     "base_uri": "https://localhost:8080/"
    },
    "id": "T6ELsNpfDK_y",
    "outputId": "0dd1dfe7-bad1-44bf-d5b4-962209d2a8e6"
   },
   "outputs": [
    {
     "name": "stdout",
     "output_type": "stream",
     "text": [
      "Epoch 1/10\n",
      "\u001b[1m32987/32987\u001b[0m \u001b[32m━━━━━━━━━━━━━━━━━━━━\u001b[0m\u001b[37m\u001b[0m \u001b[1m270s\u001b[0m 6ms/step - accuracy: 0.8695 - loss: 0.3011\n",
      "Epoch 2/10\n",
      "\u001b[1m32987/32987\u001b[0m \u001b[32m━━━━━━━━━━━━━━━━━━━━\u001b[0m\u001b[37m\u001b[0m \u001b[1m271s\u001b[0m 6ms/step - accuracy: 0.8706 - loss: 0.2989\n",
      "Epoch 3/10\n",
      "\u001b[1m32987/32987\u001b[0m \u001b[32m━━━━━━━━━━━━━━━━━━━━\u001b[0m\u001b[37m\u001b[0m \u001b[1m297s\u001b[0m 6ms/step - accuracy: 0.8713 - loss: 0.2972\n",
      "Epoch 4/10\n",
      "\u001b[1m32987/32987\u001b[0m \u001b[32m━━━━━━━━━━━━━━━━━━━━\u001b[0m\u001b[37m\u001b[0m \u001b[1m307s\u001b[0m 7ms/step - accuracy: 0.8716 - loss: 0.2964\n",
      "Epoch 5/10\n",
      "\u001b[1m32987/32987\u001b[0m \u001b[32m━━━━━━━━━━━━━━━━━━━━\u001b[0m\u001b[37m\u001b[0m \u001b[1m301s\u001b[0m 6ms/step - accuracy: 0.8721 - loss: 0.2954\n",
      "Epoch 6/10\n",
      "\u001b[1m32987/32987\u001b[0m \u001b[32m━━━━━━━━━━━━━━━━━━━━\u001b[0m\u001b[37m\u001b[0m \u001b[1m302s\u001b[0m 6ms/step - accuracy: 0.8724 - loss: 0.2949\n",
      "Epoch 7/10\n",
      "\u001b[1m32987/32987\u001b[0m \u001b[32m━━━━━━━━━━━━━━━━━━━━\u001b[0m\u001b[37m\u001b[0m \u001b[1m299s\u001b[0m 6ms/step - accuracy: 0.8727 - loss: 0.2942\n",
      "Epoch 8/10\n",
      "\u001b[1m32987/32987\u001b[0m \u001b[32m━━━━━━━━━━━━━━━━━━━━\u001b[0m\u001b[37m\u001b[0m \u001b[1m296s\u001b[0m 6ms/step - accuracy: 0.8728 - loss: 0.2939\n",
      "Epoch 9/10\n",
      "\u001b[1m32987/32987\u001b[0m \u001b[32m━━━━━━━━━━━━━━━━━━━━\u001b[0m\u001b[37m\u001b[0m \u001b[1m302s\u001b[0m 6ms/step - accuracy: 0.8729 - loss: 0.2935\n",
      "Epoch 10/10\n",
      "\u001b[1m32987/32987\u001b[0m \u001b[32m━━━━━━━━━━━━━━━━━━━━\u001b[0m\u001b[37m\u001b[0m \u001b[1m301s\u001b[0m 6ms/step - accuracy: 0.8731 - loss: 0.2931\n"
     ]
    },
    {
     "data": {
      "text/plain": [
       "<keras.src.callbacks.history.History at 0x789e989e15a0>"
      ]
     },
     "execution_count": 15,
     "metadata": {},
     "output_type": "execute_result"
    }
   ],
   "source": [
    "# Retrain our word2vec\n",
    "num_epochs = 10\n",
    "\n",
    "w2v_model.fit(dataset, epochs=num_epochs, batch_size=batch_size)\n"
   ]
  },
  {
   "cell_type": "code",
   "execution_count": null,
   "metadata": {
    "id": "-KYGnwJii3KE"
   },
   "outputs": [],
   "source": [
    "# Save the weights\n",
    "w2v_model.save_weights('w2v_model_with_phrase.weights.h5')"
   ]
  },
  {
   "cell_type": "code",
   "execution_count": 41,
   "metadata": {
    "id": "QDnoec0Zj3ie"
   },
   "outputs": [],
   "source": [
    "# Load the weights\n",
    "w2v_model.load_weights('w2v_model_with_phrase.weights.h5')"
   ]
  },
  {
   "cell_type": "code",
   "execution_count": 42,
   "metadata": {
    "id": "puFiBjPIj6cg"
   },
   "outputs": [],
   "source": [
    "# Extract the embedding weights\n",
    "embedding_layer = w2v_model.get_layer('word_embedding')\n",
    "embedding_weights = embedding_layer.get_weights()[0]"
   ]
  },
  {
   "cell_type": "code",
   "execution_count": 43,
   "metadata": {
    "colab": {
     "base_uri": "https://localhost:8080/"
    },
    "id": "53EumH9JE8Fp",
    "outputId": "2952a3ec-8b9d-49e4-93c0-a532bdc02d9b"
   },
   "outputs": [
    {
     "name": "stdout",
     "output_type": "stream",
     "text": [
      "Top 10 most dissimilar words to united_kingdom:  [('prophetic', array([[0.01756217]], dtype=float32)), ('sensory', array([[0.04132243]], dtype=float32)), ('meter', array([[0.04337403]], dtype=float32)), ('illusion', array([[0.04348914]], dtype=float32)), ('meditation', array([[0.04420625]], dtype=float32)), ('mishnah', array([[0.04783754]], dtype=float32)), ('bottle', array([[0.04944154]], dtype=float32)), ('subjective', array([[0.04985476]], dtype=float32)), ('passages', array([[0.05053059]], dtype=float32)), ('illustrations', array([[0.05118572]], dtype=float32))]\n"
     ]
    }
   ],
   "source": [
    "# Define the most dissimilar function\n",
    "def most_dissimilar(target_word, n_most = 10):\n",
    "\n",
    "  temp = {}\n",
    "\n",
    "  for idx in range(1, len(embedding_weights)):\n",
    "    temp[reverse_dictionary[idx]] = cosine_similarity([embedding_weights[dictionary[target_word]]], [embedding_weights[idx]])\n",
    "\n",
    "  temp = sorted(temp.items(), key=lambda x: x[1], reverse=False)\n",
    "  return temp[:n_most]\n",
    "\n",
    "united_kingdom_most_dissimilar = most_dissimilar('united_kingdom')\n",
    "\n",
    "print('Top 10 most dissimilar words to united_kingdom: ', united_kingdom_most_dissimilar)\n"
   ]
  },
  {
   "cell_type": "code",
   "execution_count": 44,
   "metadata": {
    "colab": {
     "base_uri": "https://localhost:8080/"
    },
    "id": "WTMUeYO9FESg",
    "outputId": "0f943fb6-c30f-41bb-983d-3e5b1744a574"
   },
   "outputs": [
    {
     "name": "stdout",
     "output_type": "stream",
     "text": [
      "The cosine similarity of united_kingdom and united:  [[0.61632997]]\n",
      "The cosine similarity of united_kingdom and kingdom:  [[0.65125656]]\n",
      "The cosine similarity of united_kingdom and united + kingdom:  [[0.70881784]]\n"
     ]
    }
   ],
   "source": [
    "# Find the cosine similarities\n",
    "# Get the embeddings\n",
    "\n",
    "united_kingdom_embedding = embedding_weights[dictionary['united_kingdom']]\n",
    "united_embedding = embedding_weights[dictionary['united']]\n",
    "kingdom_embedding = embedding_weights[dictionary['kingdom']]\n",
    "united_and_kingdom_embedding = united_embedding + kingdom_embedding\n",
    "\n",
    "print(\"The cosine similarity of united_kingdom and united: \", cosine_similarity([united_kingdom_embedding], [united_embedding]))\n",
    "print(\"The cosine similarity of united_kingdom and kingdom: \", cosine_similarity([united_kingdom_embedding], [kingdom_embedding]))\n",
    "print(\"The cosine similarity of united_kingdom and united + kingdom: \", cosine_similarity([united_kingdom_embedding], [united_and_kingdom_embedding]))"
   ]
  },
  {
   "cell_type": "markdown",
   "metadata": {
    "id": "UGPYekMpnEpg"
   },
   "source": [
    "## **PART 2 [64 points]: IMDB Sentiment Analysis using ELMo**"
   ]
  },
  {
   "cell_type": "markdown",
   "metadata": {
    "id": "F1VBvjE7nEpg"
   },
   "source": [
    "<div class=\"alert alert-block alert-danger\" style=\"color:black;background-color:#E7F4FA\">\n",
    "   \n",
    "Sentiment analysis, also known as opinion mining or emotion AI, is the use of natural language processing, text analysis, computational linguistics, and biometrics to systematically identify, extract, quantify, and study affective states and subjective information.\n",
    "    \n",
    "For this part of the homework, we will be using the IMDB dataset, which is publicly available [here](http://ai.stanford.edu/~amaas/data/sentiment/).    \n",
    "\n",
    "This represents a \"many-to-one\" problem, with the output classified as a `positive` or `negative` sentiment, depending on the words used in the review.\n",
    "    \n",
    "    \n",
    "In the first part of this section, you are expected to build a language model to train a basic ELMo.\n",
    "    \n",
    "Although the original ELMo implementation uses *Character Embeddings*, for the sake of this homework, we will use word embeddings instead.\n",
    "    \n",
    "Read more about the ELMo paper [here](https://arxiv.org/pdf/1802.05365.pdf).\n",
    "\n",
    "In the second part of this subsection, you will use the generated ELMo embeddings in a deep-learning model to perform sentiment analysis using the IMDB dataset.\n",
    "    \n",
    "You will compare its performance, with a baseline model without any trained embeddings, and another model which directly uses the `word2vec` embeddings.\n",
    "\n",
    "<br />\n",
    "    </div>"
   ]
  },
  {
   "cell_type": "markdown",
   "metadata": {
    "id": "pzdrjUMPnEpg"
   },
   "source": [
    "### **PART 2: Questions**    "
   ]
  },
  {
   "cell_type": "markdown",
   "metadata": {
    "id": "8sVqMuovnEpl"
   },
   "source": [
    "<div class=\"alert alert-block alert-danger\" style=\"color:black;background-color:#E7F4FA\">\n",
    "\n",
    " **2.1 [15 points] Preprocess the dataset**\n",
    "<br />\n",
    "\n",
    "<details>\n",
    "<summary>\n",
    "<font size=\"3\" color=\"green\">\n",
    "<b>Click for instructions</b>\n",
    "</font>\n",
    "</summary>\n",
    "    \n",
    "**2.1.1** - Load the dataset\n",
    "\n",
    "For simplicity, we will use the training split of the IMDB dataset.\n",
    "- Limit to the most frequent 5000 words.\n",
    "- Do not skip any frequently occurring words.\n",
    "- Limit the largest review to a maximum of 200 words only.\n",
    "    \n",
    "    \n",
    "**NOTE**: You can use the `imdb.get_word_index()` to get the mapping between tokens and words. This will load a dictionary with the mappings, which have to be corrected. A helper code is provided below to fix the dictionary.\n",
    "    \n",
    "Read more about `tf.keras.datasets.imdb` [here](https://www.tensorflow.org/api_docs/python/tf/keras/datasets/imdb/load_data?version=nightly).    \n",
    "    \n",
    "To each review, you must add an end-of-sentence token \\<\\/s>.\n",
    "\n",
    "Eg. Review: \"\\<s\\> This movie is so bad, I had to leave early\"\n",
    "    \n",
    "Modified review: \"\\<s\\> This movie is so bad, I had to leave early \\<\\/s\\>\"\n",
    "<br />\n",
    "\n",
    "**2.1.2** - Load the `word2vec` embeddings\n",
    "    \n",
    "You will use the pre-trained `word2vec` embeddings for this section of the homework. This file can be downloaded from [here](https://github.com/dlops-io/datasets/releases/download/v1.0/GoogleNews-vectors-negative300.bin.gz) and can be accessed like a dictionary.\n",
    "    \n",
    "**NOTE**: To access the pre-trained embeddings, [gensim](https://pypi.org/project/gensim/) library can be used.\n",
    "\n",
    "Check if the embeddings for the start token (\\<s\\>) and end token (\\</s\\>) are present in the loaded `word2vec` embeddings.\n",
    "\n",
    "Add the \\<s\\> and\\</s\\> tokens to the `word2vec` embeddings as random vectors if they are not present.\n",
    "\n",
    "Create an `embedding_matrix` that will consist of the words present in word2vec. It will be a matrix of dimension `num_words X embedding_dim` `(5000 X 300)` including the addition of start and end tokens.\n",
    "<br /><br />\n",
    "**2.1.3** Prepare data for model training:\n",
    "\n",
    "- Not all the words in the reviews are present in the embeddings file. Hence, if it is not present, you must OMIT that word from the sentence.\n",
    "   \n",
    "E.g. If `and` token is not present in the embeddings:\n",
    "   \n",
    "```\n",
    "OLD SENTENCE: <s>The movie was good and I really liked it </s>\n",
    "    \n",
    "NEW SENTENCE: <s> The movie was good I really liked it </s>\n",
    "    \n",
    "```\n",
    "\n",
    "- Split the data (`x_train` (tokens list), `y_train` (class list)) into 80% training and 20% validation. We will use the `y_train` (which is the sentiment associated with each movie review) only in Part 2.3 for sentiment analysis.\n",
    "\n",
    "</details>\n",
    "<br />\n",
    "    \n",
    "**2.2 [34 points] Define and train the model**\n",
    "    \n",
    "<details>\n",
    "<summary>\n",
    "<font size=\"3\" color=\"green\">\n",
    "<b>Click for instructions</b>\n",
    "</font>\n",
    "</summary>\n",
    "    \n",
    "We define an *ELMo-like* language model using bi-directional LSTMs and residual connections  **without** the character CNN to simplify the analysis.\n",
    "    \n",
    "We will use the `word2vec` embeddings instead of the character representations of the CNN.\n",
    "    \n",
    "For simplicity, we train our *ELMo-like* language model on the IMDB dataset itself. But generally, language models are trained on much larger corpora.  \n",
    "\n",
    "**2.2.1** Build a `tf.data.Dataset` for training, and another one for validation\n",
    "\n",
    "- Set an appropriate batch size (32, 64, 128, 256,...) This value will be determined by the GPU you have.\n",
    "\n",
    "- Set `train_shuffle_buffer_size` and `validation_shuffle_buffer_size` to the length of training data and validation data respectively\n",
    "\n",
    "- `tf.data.Dataset` is an efficient way to build data pipelines. Instead of preprocessing the entire dataset, we can preprocess a batch. It is faster and consumes fewer resources, which is optimal for training.\n",
    "\n",
    "- Hint: When creating tf.data.Dataset use `tf.ragged.constant` to convert your ragged tokens to ragged tensors\n",
    "\n",
    "- `dataset.map` enable us to apply a function to each element of the batch individually. The parameter `num_parallel_calls` allow us to control how many threads we will use to feed the network. It can be set to `num_parallel_calls=AUTOTUNE`. You will use the `transform_pad` function to perform model-specific data processing.\n",
    "\n",
    "- When building the tf.data pipeline use the following order:\n",
    "  - shuffle\n",
    "  - batch\n",
    "  - map\n",
    "  - prefetch\n",
    "<br>\n",
    "<br>\n",
    "- After you build your train and validation dataset, use `dataset.take(1)` to view the first row of data from the training dataset. It is important to verify the data input and output dimensions before modelling\n",
    "<br /><br />\n",
    "    \n",
    "**2.2.2** Building the language model\n",
    "    \n",
    "*Transform Input within the model:*\n",
    "\n",
    "*   In forward LSTM, we use the n-th token to predict the (n+1)-th token. Hence we want to discard the last one, the end of sentence token, `</s>`, from all the sentences. Remember all the sentences are padded, so the `</s>` will not be the last element of the sequence.\n",
    "\n",
    "   * One way of achieving that is, using a Boolean mask with help of [tf.sequence_mask](https://www.tensorflow.org/api_docs/python/tf/sequence_mask) or with the help of [tf.gather_nd](https://www.tensorflow.org/api_docs/python/tf/gather_nd), which can be used to select specific elements from a tensor based on their indices. Remember you can combine multiple boolean masks via multiple logic operations. We also encourage you to come up with your solutions.\n",
    "   * Note that after using boolean masks your outputs will be flattened out and you have to reshape them back with the appropriate batch size. Remember that you removed the end of sentence token, hence the length of the sequence would be length-1.\n",
    "\n",
    "    \n",
    "![](https://drive.google.com/uc?export=view&id=1f5bPplDGlRUdfii5X1bD2kd20SKRyOSo)\n",
    "  \n",
    "\n",
    "* For the backward LSTM layers, the next word prediction task is doing the reverse of what it was doing for the forward LSTM layers. We aim to predict the n-th token with the (n+1)-th token. To achieve this we remove the start of the sentence token `<s>` from all the sentences.\n",
    "\n",
    "\n",
    "The model's inputs should be followed by a `tf.keras.layers.Embedding()` layer. The `Embedding` layer will act as a lookup table to convert token inputs to their corresponding word2vec values. When initialising the `Embedding` layer, set the layer weights with the `embedding_matrix` you had built in the previous question.\n",
    "\n",
    "Set the trainable to false and mask_zero to true in the `Embedding` layer. The input dimension should be the number of rows in `embedding_matrix` and the output dimension should be your embedding dimension of `300`.\n",
    "    \n",
    "Refer to this image from the lecture slides on ELMo.\n",
    "    \n",
    "    \n",
    "![](https://drive.google.com/uc?export=view&id=1fNPnrBR7Wfh_Jci70QaHde1L3nTcs9-D)\n",
    "    \n",
    "*go_backwards in backward LSTM layers*\n",
    "\n",
    "* To predict the words backwards, we will use the go_backwards parameter present in the TensorFlow LSTM layer implementation. Remember to reverse the output of each backward LSTM layer before using it. Refer to the documentation of [tf.keras.layers.LSTM](https://www.tensorflow.org/api_docs/python/tf/keras/layers/LSTM). Remember to invert the sequence dimension and not the embedding dimension.\n",
    "\n",
    "Remember to use the **same** *softmax* layer on both the forward and the backward LSTMs.\n",
    "    \n",
    "This will give you an `output_f` and `output_b` which you will evaluate with your two targets.  \n",
    "\n",
    "$$L = -\\sum y \\cdot log(\\widehat{y}_{right}) -\\sum y \\cdot log(\\widehat{y}_{left})$$\n",
    "\n",
    "Use an appropriate loss function, and optimizer and train the network sufficiently.   \n",
    "\n",
    "Finally, plot the training history of the train and validation loss.\n",
    "<br />\n",
    "    \n",
    "**NOTE**: Use native tensorflow functions like `tf.shape` instead of numpy functions like `np.shape`.\n",
    "<br />  \n",
    "\n",
    "**2.2.3** Extracting ELMo embeddings\n",
    "    \n",
    "Use the Functional API to build another model called `Toy_ELMo` to obtain the embeddings.\n",
    "\n",
    "*To concatenate the forward and backward LSTM hidden states we have to align them, which will be achieved by removing the start and end of sentence token embeddings from the forward and the backwards LSTM hidden states respectively. You can use the same logic that you used to process the input. It is necessary to reverse the output of the backward LSTM layers before using it in the Toy ELMo model.*\n",
    "\n",
    "The obtained embeddings should be:\n",
    "    \n",
    "1. The `word2vec` embeddings\n",
    "        \n",
    "    This is just the output after the masked layer in the language model defined above.    \n",
    "    \n",
    "2. The first bidirectional-LSTM layer embeddings\n",
    "\n",
    "    This will be the concatenation of the first LSTM layers of the language model (`lstm1 forward + lstm1 backwards`).\n",
    "    \n",
    "3. The second bidirectional-LSTM layer embeddings\n",
    "\n",
    "    This will be the concatenation of the second LSTM layer of the language model (`lstm2 forward + lstm2 backwards`).    \n",
    "    \n",
    "- Make a test prediction of your `Toy_ELMo` model  \n",
    "\n",
    "</details>\n",
    "    \n",
    "<br />\n",
    "    \n",
    " **2.3 [15 points] Transfer Learning**\n",
    "    \n",
    "<details>\n",
    "<summary>\n",
    "<font size=\"3\" color=\"green\">\n",
    "<b>Click for instructions</b>\n",
    "</font>\n",
    "</summary>\n",
    "    \n",
    "Once you've sufficiently trained your ELMo embeddings, we can use it for a downstream task such as sentiment analysis.\n",
    "    \n",
    "**2.3.1** - Baseline model:\n",
    "    \n",
    "For the baseline model, you will use:\n",
    "\n",
    "- `tf.keras.Layers.Embedding()` layer\n",
    "-  2 layers of `GRU` with `hidden_size=300`\n",
    "-  Dense output layer\n",
    "    \n",
    "You will build a `tf.data.Dataset` similar to the one created in Section 2.2.1 but instead of having a target as a series of tokens, the target should only be a class (positive or negative sentiment). Unlike in 2.2.1 we only need a single sequence of tokens for this model\n",
    "\n",
    "Train it for sufficient epochs using an appropriate optimizer and learning rate.\n",
    "\n",
    "**2.3.2** - Directly using pre-trained `word2vec`:\n",
    "    \n",
    "For this section, use the pre-trained `word2vec` embeddings directly into your model.\n",
    "\n",
    "You can use the same `tf.data.Dataset` from 2.3.1 for this model\n",
    "    \n",
    "Train, and compare its performance with the baseline model defined above **using the same architecture** as above.\n",
    "    <br /><br />\n",
    "**2.3.3** - You have already done sentiment analysis using `tf.keras.layers.Embedding()`. You will now aim to beat that baseline using your ELMo embeddings.  \n",
    "\n",
    "Using ELMo embeddings:\n",
    "\n",
    "You will build another `tf.data.Dataset` similar to the one created in Section 2.2.1 but instead of having a target as a series of tokens, the target should only be a class (positive or negative sentiment). This model also requires two inputs one for forward and one for backward LSTM.   \n",
    "\n",
    "For this model, you will use:\n",
    "- `Toy_ELMo` model after the input layer\n",
    "-  Sauce layer\n",
    "-  2 layers of `GRU` with `hidden_size=300`\n",
    "-  Dense output layer\n",
    "    \n",
    "**NOTE**: Set `Toy_ELMo.trainable` to `False` to avoid retraining the model.\n",
    "        \n",
    "Create the **sauce** layer to combine the three embeddings from your `Toy_ELMo`. You should have **three** trainable parameters in this layer\n",
    "\n",
    "$$ELMo_{t} = \\gamma \\sum_{j=0}^{L} s_{j} h_{t}^{j}$$\n",
    "    \n",
    "Since we are not using any other embeddings, we will set the value of $\\gamma$ to 1. <br>\n",
    "Train the modified model sufficiently, and compare it to the previously trained models.\n",
    "</details>\n",
    "</div>"
   ]
  },
  {
   "cell_type": "markdown",
   "metadata": {
    "id": "txDm5bulnEpl"
   },
   "source": [
    "### **PART 2: Solutions**    "
   ]
  },
  {
   "cell_type": "markdown",
   "metadata": {
    "id": "0kgfBlpKnEpl"
   },
   "source": [
    "<div class=\"alert alert-block alert-danger\" style=\"color:black;background-color:#E7F4FA\">\n",
    "\n",
    "\n",
    "\n",
    "#### **2.1 [15 points] Preprocess the dataset**\n",
    "</div>\n"
   ]
  },
  {
   "cell_type": "markdown",
   "metadata": {
    "id": "Mv8WZe2e_GTu"
   },
   "source": [
    "**2.1.1** - Load the dataset\n",
    "\n",
    "For simplicity, we will use the training split of the IMDB dataset.\n",
    "- Limit to the most frequent 5000 words.\n",
    "- Do not skip any frequently occurring words.\n",
    "- Limit the largest review to a maximum of 200 words only.\n",
    "    \n",
    "    \n",
    "**NOTE**: You can use the `imdb.get_word_index()` to get the mapping between tokens and words. This will load a dictionary with the mappings, which have to be corrected. A helper code is provided below to fix the dictionary.\n",
    "    \n",
    "Read more about `tf.keras.datasets.imdb` [here](https://www.tensorflow.org/api_docs/python/tf/keras/datasets/imdb/load_data?version=nightly).    \n",
    "    \n",
    "To each review, you must add an end-of-sentence token \\<\\/s>.\n",
    "\n",
    "Eg. Review: \"\\<s\\> This movie is so bad, I had to leave early\"\n",
    "    \n",
    "Modified review: \"\\<s\\> This movie is so bad, I had to leave early \\<\\/s\\>\""
   ]
  },
  {
   "cell_type": "code",
   "execution_count": 25,
   "metadata": {
    "id": "l_u6UI8KnEpl"
   },
   "outputs": [],
   "source": [
    "# Your code here\n",
    "import numpy as np\n",
    "import tensorflow as tf\n",
    "from tensorflow.keras.datasets import imdb\n",
    "from tensorflow.keras.preprocessing.sequence import pad_sequences\n",
    "import gensim.downloader as api\n",
    "from sklearn.model_selection import train_test_split\n",
    "from tensorflow.keras.models import Model\n",
    "from tensorflow.keras.layers import Input, Embedding, LSTM, Dense, TimeDistributed, Add, Lambda, Concatenate\n",
    "import tensorflow.keras.backend as K\n",
    "from tensorflow.keras.datasets import imdb\n",
    "from tensorflow.keras.preprocessing.sequence import pad_sequences\n",
    "from sklearn.model_selection import train_test_split\n",
    "import gensim.downloader as api\n",
    "\n",
    "\n",
    "# Load the IMDB dataset\n",
    "vocabulary_size = 5000\n",
    "max_review_length = 200\n",
    "end_of_sentence_token = \"</s>\"\n",
    "\n",
    "# Load the dataset with the specified vocabulary size\n",
    "(x_train, y_train), (x_test, y_test) = imdb.load_data(num_words=vocabulary_size)\n",
    "\n",
    "# Pad and truncate the sequences to the maximum review length\n",
    "x_train = pad_sequences(x_train, maxlen=max_review_length, truncating='post', padding='post')\n",
    "x_test = pad_sequences(x_test, maxlen=max_review_length, truncating='post', padding='post')\n",
    "\n",
    "# Load the word index\n",
    "word_index = imdb.get_word_index()\n"
   ]
  },
  {
   "cell_type": "code",
   "execution_count": 26,
   "metadata": {
    "id": "N0bpwZE5nEpm"
   },
   "outputs": [],
   "source": [
    "# Your code here\n",
    "### Helper code to fix the mapping of the imdb word index\n",
    "\n",
    "index = tf.keras.datasets.imdb.get_word_index()\n",
    "\n",
    "# we need to add 3 from the indices because 0 is 'padding', 1 is 'start of sequence' and 2 is 'unknown'\n",
    "\n",
    "inv_index = {j+3:i for i,j in index.items()}\n",
    "\n",
    "# Tags for start and end of sentence\n",
    "\n",
    "inv_index[1] = '<s>'\n",
    "inv_index[2] = 'UNK'\n",
    "inv_index[3] = '</s>'\n",
    "\n",
    "index = {j:i for i,j in inv_index.items()}"
   ]
  },
  {
   "cell_type": "code",
   "execution_count": 27,
   "metadata": {},
   "outputs": [
    {
     "name": "stdout",
     "output_type": "stream",
     "text": [
      "<s> this film was just brilliant casting location scenery story direction everyone's really suited the part they played and you could just imagine being there robert UNK is an amazing actor and now the same being director UNK father came from the same scottish island as myself so i loved the fact there was a real connection with this film the witty remarks throughout the film were great it was just brilliant so much that i bought the film as soon as it was released for UNK and would recommend it to everyone to watch and the fly UNK was amazing really cried at the end it was so sad and you know what they say if you cry at a film it must have been good and this definitely was also UNK to the two little UNK that played the UNK of norman and paul they were just brilliant children are often left out of the UNK list i think because the stars that play them all grown up are such a big UNK for the whole film but these children are amazing and should be UNK for what they have done don't you think the whole story was </s>\n"
     ]
    }
   ],
   "source": [
    "# Your code here\n",
    "# Reverse the word index to get words from indices\n",
    "reverse_word_index = {value: key for key, value in index.items()}\n",
    "\n",
    "# Function to decode a review back to words\n",
    "def decode_review(encoded_review):\n",
    "    return ' '.join([reverse_word_index.get(i, '?') for i in encoded_review])\n",
    "\n",
    "# Function to add end-of-sentence token to each review\n",
    "def add_eos_token(reviews):\n",
    "    eos_index = index['</s>']\n",
    "    for review in reviews:\n",
    "        # Remove padding and truncate to max length before adding EOS token\n",
    "        review = [word for word in review if word != 0][:max_review_length]\n",
    "        review.append(3)\n",
    "        yield review\n",
    "\n",
    "# Apply the function to add EOS token to each review\n",
    "x_train = list(add_eos_token(x_train))\n",
    "x_test = list(add_eos_token(x_test))\n",
    "\n",
    "# Check the first review to verify\n",
    "encoded_review = x_train[0]\n",
    "decoded_review = decode_review(encoded_review)\n",
    "print(decoded_review)\n"
   ]
  },
  {
   "cell_type": "markdown",
   "metadata": {
    "id": "UyQGrhAAnEpm"
   },
   "source": [
    "<div class=\"alert alert-block alert-danger\" style=\"color:black;background-color:#E7F4FA\">\n",
    "    \n",
    "**2.1.2** - Load the `word2vec` embeddings\n",
    "    \n",
    "You will use the pre-trained `word2vec` embeddings for this section of the homework. This file can be downloaded from [here](https://github.com/dlops-io/datasets/releases/download/v1.0/GoogleNews-vectors-negative300.bin.gz) and can be accessed like a dictionary.\n",
    "    \n",
    "**NOTE**: To access the pre-trained embeddings, [gensim](https://pypi.org/project/gensim/) library can be used.\n",
    "\n",
    "Check if the embeddings for the start token (\\<s\\>) and end token (\\</s\\>) are present in the loaded `word2vec` embeddings.\n",
    "\n",
    "Add the \\<s\\> and\\</s\\> tokens to the `word2vec` embeddings as random vectors if they are not present.\n",
    "\n",
    "Create an `embedding_matrix` that will consist of the words present in word2vec. It will be a matrix of dimension `num_words X embedding_dim` `(5000 X 300)` including the addition of start and end tokens.\n",
    "<br />\n",
    "\n",
    "</div>"
   ]
  },
  {
   "cell_type": "code",
   "execution_count": 6,
   "metadata": {
    "id": "vJ-hisannEpm"
   },
   "outputs": [],
   "source": [
    "# Obtaining Word2Vec embeddings using gensim library\n",
    "import gensim.downloader as api\n",
    "\n",
    "model = api.load(\"word2vec-google-news-300\")"
   ]
  },
  {
   "cell_type": "code",
   "execution_count": 7,
   "metadata": {},
   "outputs": [],
   "source": [
    "# your code here\n",
    "import gensim\n",
    "# Load the pre-trained word2vec embeddings\n",
    "word2vec = gensim.models.KeyedVectors.load_word2vec_format('GoogleNews-vectors-negative300.bin', binary=True)"
   ]
  },
  {
   "cell_type": "code",
   "execution_count": 28,
   "metadata": {},
   "outputs": [],
   "source": [
    "# Check if the start (<s>) and end (</s>) tokens are present in the model:\n",
    "start_token = '<s>'\n",
    "end_token = '</s>'\n",
    "\n",
    "if start_token not in model:\n",
    "    model[start_token] = np.random.rand(model.vector_size)\n",
    "if end_token not in model:\n",
    "    model[end_token] = np.random.rand(model.vector_size)\n"
   ]
  },
  {
   "cell_type": "code",
   "execution_count": 29,
   "metadata": {},
   "outputs": [],
   "source": [
    "# Define the number of words and embedding dimension\n",
    "num_words = 5004\n",
    "embedding_dim = model.vector_size\n",
    "\n",
    "# Initialize the embedding matrix\n",
    "embedding_matrix = np.zeros((num_words, embedding_dim))\n",
    "\n",
    "# Populate the embedding matrix with the vectors from the Word2Vec model\n",
    "for i, word in enumerate(model.index_to_key[:num_words - 3]):  # Reserve two slots for <s> and </s>\n",
    "    embedding_matrix[i] = model[word]\n",
    "\n",
    "# Ensure the start and end tokens are included\n",
    "embedding_matrix[-3] = model['UNK']\n",
    "embedding_matrix[-2] = model[start_token]\n",
    "embedding_matrix[-1] = model[end_token]\n",
    "\n"
   ]
  },
  {
   "cell_type": "markdown",
   "metadata": {
    "id": "RP9IAGd0nEpm"
   },
   "source": [
    "<div class=\"alert alert-block alert-danger\" style=\"color:black;background-color:#E7F4FA\">\n",
    "        \n",
    "    \n",
    "**2.1.3** - Prepare data for model training:\n",
    "\n",
    "- Not all the words in the reviews are present in the embeddings file. Hence, if it is not present, you must OMIT that word from the sentence.\n",
    "   \n",
    "E.g. If `and` token is not present in the embeddings:\n",
    "   \n",
    "```\n",
    "OLD SENTENCE: <s>The movie was good and I really liked it </s>\n",
    "    \n",
    "NEW SENTENCE: <s> The movie was good I really liked it </s>\n",
    "    \n",
    "```\n",
    "\n",
    "- Split the data (`x_train` (tokens list), `y_train` (class list)) into 80% training and 20% validation. We will use the `y_train` (which is the sentiment associated with each movie review) only in Part 2.3 for sentiment analysis.\n",
    "</div>"
   ]
  },
  {
   "cell_type": "code",
   "execution_count": 30,
   "metadata": {},
   "outputs": [],
   "source": [
    "x_train, x_val, y_train, y_val = train_test_split(x_train, y_train, test_size=0.2, random_state=42)"
   ]
  },
  {
   "cell_type": "code",
   "execution_count": 31,
   "metadata": {
    "id": "B5FnvI5rnEpm"
   },
   "outputs": [
    {
     "name": "stdout",
     "output_type": "stream",
     "text": [
      "<s> well how do you even rate a movie such as this one does it even have cinematic value really it's a movie that tries to get as close to being a UNK movie as possible basically the entire movie is purely a bunch of guys UNK a young girl not very appealing and on top of that also not that realistic really br br it's obvious that the movie tried to be as realistic and shocking as possible however the movie is just all too fake for that to work out as intended the UNK and UNK is all soft and fake looking as well as sounding they are often just kicking into the floor rather than into the girl obviously also the way the girl UNK to all the UNK is pretty tame i mean if this was real surely she would had UNK it out there is more UNK than screaming in this one though br br the movie is obviously low budget and it's a UNK attempt at trying to achieve something shocking and realistic as well as original and provoking with very limited resources don't really think this movie made much impact though at the </s>\n"
     ]
    }
   ],
   "source": [
    "# Your code here\n",
    "# Function to filter reviews by removing words not in embeddings\n",
    "def filter_reviews(reviews):\n",
    "    valid_indices = set(range(len(embedding_matrix)))\n",
    "    filtered_reviews = []\n",
    "    for review in reviews:\n",
    "        filtered_review = [word for word in review if word in valid_indices]\n",
    "        filtered_reviews.append(filtered_review)\n",
    "    return filtered_reviews\n",
    "\n",
    "x_train = filter_reviews(x_train)\n",
    "x_test = filter_reviews(x_test)\n",
    "\n",
    "\n",
    "# Check the first review to verify\n",
    "encoded_review = x_train[0]\n",
    "decoded_review = decode_review(encoded_review)\n",
    "print(decoded_review)\n"
   ]
  },
  {
   "cell_type": "markdown",
   "metadata": {
    "id": "SFO084U8nEpm"
   },
   "source": [
    "<div class=\"alert alert-block alert-danger\" style=\"color:black;background-color:#E7F4FA\">\n",
    "    \n",
    "#### **2.2 [34 points] Define and train the model**\n",
    "    \n",
    "We define an *ELMo-like* language model using bi-directional LSTMs and residual connections  **without** the character CNN to simplify the analysis.\n",
    "    \n",
    "We will use the `word2vec` embeddings instead of the character representations of the CNN.\n",
    "    \n",
    "For simplicity, we train our *ELMo-like* language model on the IMDB dataset itself. But generally, language models are trained on much larger corpora.  \n",
    "</div>\n"
   ]
  },
  {
   "cell_type": "markdown",
   "metadata": {
    "id": "Cyj3ypTP_Xw-"
   },
   "source": [
    "**2.2.1** - Build a `tf.data.Dataset` for training, and another one for validation\n",
    "\n",
    "- Set an appropriate batch size (32, 64, 128, 256,...) This value will be determined by the GPU you have.\n",
    "\n",
    "- Set `train_shuffle_buffer_size` and `validation_shuffle_buffer_size` to the length of training data and validation data respectively\n",
    "\n",
    "- `tf.data.Dataset` is an efficient way to build data pipelines. Instead of preprocessing the entire dataset, we can preprocess a batch. It is faster and consumes fewer resources, which is optimal for training.\n",
    "\n",
    "- Hint: When creating tf.data.Dataset use `tf.ragged.constant` to convert your ragged tokens to ragged tensors\n",
    "\n",
    "- `dataset.map` enable us to apply a function to each element of the batch individually. The parameter `num_parallel_calls` allow us to control how many threads we will use to feed the network. It can be set to `num_parallel_calls=AUTOTUNE`. You will use the `transform_pad` function to perform model-specific data processing.\n",
    "\n",
    "- When building the tf.data pipeline use the following order:\n",
    "  - shuffle\n",
    "  - batch\n",
    "  - map\n",
    "  - prefetch\n",
    "<br><br>\n",
    "- After you build your train and validation dataset, use `dataset.take(1)` to view the first row of data from the training dataset. It is important to verify the data input and output dimensions before modelling"
   ]
  },
  {
   "cell_type": "code",
   "execution_count": 32,
   "metadata": {
    "id": "SPlvahEJnEpm"
   },
   "outputs": [
    {
     "name": "stdout",
     "output_type": "stream",
     "text": [
      "201\n",
      "train_data <_PrefetchDataset element_spec=((TensorSpec(shape=(None, None), dtype=tf.int32, name=None), TensorSpec(shape=(None,), dtype=tf.int32, name=None)), (TensorSpec(shape=(None, None), dtype=tf.int32, name=None), TensorSpec(shape=(None, None), dtype=tf.int32, name=None)))>\n",
      "validation_data <_PrefetchDataset element_spec=((TensorSpec(shape=(None, None), dtype=tf.int32, name=None), TensorSpec(shape=(None,), dtype=tf.int32, name=None)), (TensorSpec(shape=(None, None), dtype=tf.int32, name=None), TensorSpec(shape=(None, None), dtype=tf.int32, name=None)))>\n"
     ]
    }
   ],
   "source": [
    "# Calculate and store length of each sentence\n",
    "N_train = [len(n) for n in x_train]\n",
    "N_val = [len(n) for n in x_val]\n",
    "\n",
    "N_train = tf.constant(N_train, tf.int32)\n",
    "N_val = tf.constant(N_val, tf.int32)\n",
    "\n",
    "# Use tensorflow ragged constants to get the ragged version of data\n",
    "train_processed_x = tf.ragged.constant(x_train)\n",
    "validate_processed_x = tf.ragged.constant(x_val)\n",
    "train_processed_y = tf.ragged.constant(x_train)\n",
    "validate_processed_y = tf.ragged.constant(x_val)\n",
    "\n",
    "# Set the AUTOTUNE parameter\n",
    "AUTOTUNE = tf.data.experimental.AUTOTUNE\n",
    "\n",
    "print(len(train_processed_y[0]))\n",
    "# Create TF Dataset\n",
    "train_data = tf.data.Dataset.from_tensor_slices((train_processed_x, train_processed_y, N_train))\n",
    "validation_data = tf.data.Dataset.from_tensor_slices((validate_processed_x, validate_processed_y, N_val))\n",
    "\n",
    "# Helper function to transform and pad the data\n",
    "def transform_pad(input, output, n):\n",
    "    # Transform the input at runtime\n",
    "    input = input.to_tensor(default_value=0, shape=[None, None])\n",
    "\n",
    "    # Transform the output for the forward and backward LSTM\n",
    "    output = output.to_tensor(default_value=0, shape=[None, None])\n",
    "    output_f = output[:, 1:]\n",
    "    output_b = output[:, :-1]\n",
    "\n",
    "    return (input, n), (output_f, output_b)\n",
    "\n",
    "# Helper Code\n",
    "batch_size = 64\n",
    "train_shuffle_buffer_size = len(x_train)\n",
    "validation_shuffle_buffer_size = len(x_val)\n",
    "\n",
    "#############\n",
    "# Train data\n",
    "#############\n",
    "# Apply all data processing logic\n",
    "train_data = train_data.shuffle(buffer_size=train_shuffle_buffer_size)\n",
    "train_data = train_data.batch(batch_size)\n",
    "train_data = train_data.map(transform_pad, num_parallel_calls=AUTOTUNE)\n",
    "train_data = train_data.prefetch(AUTOTUNE)\n",
    "\n",
    "##################\n",
    "# Validation data\n",
    "##################\n",
    "# Apply all data processing logic\n",
    "validation_data = validation_data.batch(batch_size)\n",
    "validation_data = validation_data.map(transform_pad, num_parallel_calls=AUTOTUNE)\n",
    "validation_data = validation_data.prefetch(AUTOTUNE)\n",
    "\n",
    "print(\"train_data\", train_data)\n",
    "print(\"validation_data\", validation_data)"
   ]
  },
  {
   "cell_type": "code",
   "execution_count": 33,
   "metadata": {
    "id": "OOF25qy4nEpm"
   },
   "outputs": [
    {
     "name": "stdout",
     "output_type": "stream",
     "text": [
      "(64, 201)\n",
      "tf.Tensor(\n",
      "[   1   54    4 1236    7    2 3057   33 1878  543  228 2370   13   16\n",
      "    2  195    8  264   12   62   30   17  483 4051   17   49    7    4\n",
      "   86    2  108   71   24   10   10    4   65   16 4366    4  690   34\n",
      "    4    2 1094   71   96 1908   68  644  651    4  105   71 3658    5\n",
      "  592 1342    5 4111    2   69  199  110   76  128  504   10   10   95\n",
      "   99   13   16  928   11  319   51 2676    2    2   62   30   40  237\n",
      "    2   77 4948   39    4  268   18   38  111  153    5   16  210   38\n",
      "    2   11   41  908  555   33 1675 2676   99   16    2   34    4    2\n",
      "  229    5    4    2 1381  160 1387   10   10  164  204  133  164   60\n",
      " 2602  221   18   35 1158    8  358    5  695   57 1236  984   18  259\n",
      "   25   70 1771   14   31  209 1012    6  155    3    0    0    0    0\n",
      "    0    0    0    0    0    0    0    0    0    0    0    0    0    0\n",
      "    0    0    0    0    0    0    0    0    0    0    0    0    0    0\n",
      "    0    0    0    0    0    0    0    0    0    0    0    0    0    0\n",
      "    0    0    0    0    0], shape=(201,), dtype=int32)\n",
      "(64,)\n",
      "tf.Tensor(150, shape=(), dtype=int32)\n",
      "************************\n",
      "(64, 200) (64, 200)\n",
      "tf.Tensor(\n",
      "[  54    4 1236    7    2 3057   33 1878  543  228 2370   13   16    2\n",
      "  195    8  264   12   62   30   17  483 4051   17   49    7    4   86\n",
      "    2  108   71   24   10   10    4   65   16 4366    4  690   34    4\n",
      "    2 1094   71   96 1908   68  644  651    4  105   71 3658    5  592\n",
      " 1342    5 4111    2   69  199  110   76  128  504   10   10   95   99\n",
      "   13   16  928   11  319   51 2676    2    2   62   30   40  237    2\n",
      "   77 4948   39    4  268   18   38  111  153    5   16  210   38    2\n",
      "   11   41  908  555   33 1675 2676   99   16    2   34    4    2  229\n",
      "    5    4    2 1381  160 1387   10   10  164  204  133  164   60 2602\n",
      "  221   18   35 1158    8  358    5  695   57 1236  984   18  259   25\n",
      "   70 1771   14   31  209 1012    6  155    3    0    0    0    0    0\n",
      "    0    0    0    0    0    0    0    0    0    0    0    0    0    0\n",
      "    0    0    0    0    0    0    0    0    0    0    0    0    0    0\n",
      "    0    0    0    0    0    0    0    0    0    0    0    0    0    0\n",
      "    0    0    0    0], shape=(200,), dtype=int32)\n",
      "tf.Tensor(\n",
      "[   1   54    4 1236    7    2 3057   33 1878  543  228 2370   13   16\n",
      "    2  195    8  264   12   62   30   17  483 4051   17   49    7    4\n",
      "   86    2  108   71   24   10   10    4   65   16 4366    4  690   34\n",
      "    4    2 1094   71   96 1908   68  644  651    4  105   71 3658    5\n",
      "  592 1342    5 4111    2   69  199  110   76  128  504   10   10   95\n",
      "   99   13   16  928   11  319   51 2676    2    2   62   30   40  237\n",
      "    2   77 4948   39    4  268   18   38  111  153    5   16  210   38\n",
      "    2   11   41  908  555   33 1675 2676   99   16    2   34    4    2\n",
      "  229    5    4    2 1381  160 1387   10   10  164  204  133  164   60\n",
      " 2602  221   18   35 1158    8  358    5  695   57 1236  984   18  259\n",
      "   25   70 1771   14   31  209 1012    6  155    3    0    0    0    0\n",
      "    0    0    0    0    0    0    0    0    0    0    0    0    0    0\n",
      "    0    0    0    0    0    0    0    0    0    0    0    0    0    0\n",
      "    0    0    0    0    0    0    0    0    0    0    0    0    0    0\n",
      "    0    0    0    0], shape=(200,), dtype=int32)\n"
     ]
    }
   ],
   "source": [
    "# View some data from tf dataset\n",
    "for (input_f,n) ,(output_f, output_b) in train_data.take(1):\n",
    "  print(input_f.shape)\n",
    "  print(input_f[0])\n",
    "  print(n.shape)\n",
    "  print(n[0])\n",
    "  print(\"************************\")\n",
    "  print(output_f.shape,output_b.shape)\n",
    "  print(output_f[0])\n",
    "  print(output_b[0])"
   ]
  },
  {
   "cell_type": "markdown",
   "metadata": {
    "id": "HyVLZg5bnEpm"
   },
   "source": [
    "<div class=\"alert alert-block alert-danger\" style=\"color:black;background-color:#E7F4FA\">\n",
    "    \n",
    "**2.2.2** - Building the language model\n",
    "    \n",
    "*Transform Input within the model:*\n",
    "\n",
    "*   In forward LSTM, we use the n-th token to predict the (n+1)-th token. Hence we want to discard the last one, the end of sentence token, `</s>`, from all the sentences. Remember all the sentences are padded, so the `</s>` will not be the last element of the sequence.\n",
    "\n",
    "   * One way of achieving that is, using a Boolean mask with help of [tf.sequence_mask](https://www.tensorflow.org/api_docs/python/tf/sequence_mask) or with the help of [tf.gather_nd](https://www.tensorflow.org/api_docs/python/tf/gather_nd), which can be used to select specific elements from a tensor based on their indices. Remember you can combine multiple boolean masks via multiple logic operations. We also encourage you to come up with your solutions.\n",
    "   * Note that after using boolean masks your outputs will be flattened out and you have to reshape them back with the appropriate batch size. Remember that you removed the end of sentence token, hence the length of the sequence would be length-1.\n",
    "\n",
    "    \n",
    "![](https://drive.google.com/uc?export=view&id=1f5bPplDGlRUdfii5X1bD2kd20SKRyOSo)\n",
    "  \n",
    "\n",
    "* For the backward LSTM layers, the next word prediction task is doing the reverse of what it was doing for the forward LSTM layers. We aim to predict the n-th token with the (n+1)-th token. To achieve this we remove the start of the sentence token `<s>` from all the sentences.\n",
    "\n",
    "\n",
    "The model's inputs should be followed by a `tf.keras.layers.Embedding()` layer. The `Embedding` layer will act as a lookup table to convert token inputs to their corresponding word2vec values. When initialising the `Embedding` layer, set the layer weights with the `embedding_matrix` you had built in the previous question.\n",
    "\n",
    "Set the trainable to false and mask_zero to true in the `Embedding` layer. The input dimension should be the number of rows in `embedding_matrix` and the output dimension should be your embedding dimension of `300`.\n",
    "    \n",
    "Refer to this image from the lecture slides on ELMo.\n",
    "    \n",
    "    \n",
    "![](https://drive.google.com/uc?export=view&id=1fNPnrBR7Wfh_Jci70QaHde1L3nTcs9-D)\n",
    "    \n",
    "*go_backwards in backward LSTM layers*\n",
    "\n",
    "* To predict the words backwards, we will use the go_backwards parameter present in the TensorFlow LSTM layer implementation. Remember to reverse the output of each backward LSTM layer before using it. Refer to the documentation of [tf.keras.layers.LSTM](https://www.tensorflow.org/api_docs/python/tf/keras/layers/LSTM). Remember to invert the sequence dimension and not the embedding dimension.\n",
    "\n",
    "Remember to use the **same** *softmax* layer on both the forward and the backward LSTMs.\n",
    "    \n",
    "This will give you an `output_f` and `output_b` which you will evaluate with your two targets.     \n",
    "\n",
    "$$L = -\\sum y \\cdot log(\\widehat{y}_{right}) -\\sum y \\cdot log(\\widehat{y}_{left})$$\n",
    "\n",
    "Use an appropriate loss function, and optimizer and train the network sufficiently.   \n",
    "\n",
    "Finally, plot the training history of the train and validation loss.\n",
    "<br />\n",
    "    \n",
    "**Note**: Use native tensorflow functions like `tf.shape` instead of numpy functions like `np.shape`.\n",
    "<br />  \n",
    "\n",
    "</div>    "
   ]
  },
  {
   "cell_type": "code",
   "execution_count": 34,
   "metadata": {
    "id": "SFqdA7oHnEpn"
   },
   "outputs": [
    {
     "ename": "ValueError",
     "evalue": "Layer embedding_layer weight shape (5003, 300) is not compatible with provided weight shape (5004, 300).",
     "output_type": "error",
     "traceback": [
      "\u001b[0;31m---------------------------------------------------------------------------\u001b[0m",
      "\u001b[0;31mValueError\u001b[0m                                Traceback (most recent call last)",
      "Cell \u001b[0;32mIn[34], line 34\u001b[0m\n\u001b[1;32m     31\u001b[0m     \u001b[38;5;28;01mreturn\u001b[39;00m model\n\u001b[1;32m     33\u001b[0m \u001b[38;5;66;03m# Build the ELMo model\u001b[39;00m\n\u001b[0;32m---> 34\u001b[0m elmo_model \u001b[38;5;241m=\u001b[39m \u001b[43mbuild_elmo_model\u001b[49m\u001b[43m(\u001b[49m\u001b[43mvocabulary_size\u001b[49m\u001b[43m,\u001b[49m\u001b[43m \u001b[49m\u001b[43membedding_dim\u001b[49m\u001b[43m,\u001b[49m\u001b[43m \u001b[49m\u001b[43membedding_matrix\u001b[49m\u001b[43m,\u001b[49m\u001b[43m \u001b[49m\u001b[43mmax_review_length\u001b[49m\u001b[43m)\u001b[49m\n\u001b[1;32m     36\u001b[0m \u001b[38;5;66;03m# Compile the model\u001b[39;00m\n\u001b[1;32m     37\u001b[0m elmo_model\u001b[38;5;241m.\u001b[39mcompile(optimizer\u001b[38;5;241m=\u001b[39m\u001b[38;5;124m'\u001b[39m\u001b[38;5;124madam\u001b[39m\u001b[38;5;124m'\u001b[39m, loss\u001b[38;5;241m=\u001b[39m{\u001b[38;5;124m'\u001b[39m\u001b[38;5;124moutput_f\u001b[39m\u001b[38;5;124m'\u001b[39m: \u001b[38;5;124m'\u001b[39m\u001b[38;5;124msparse_categorical_crossentropy\u001b[39m\u001b[38;5;124m'\u001b[39m, \n\u001b[1;32m     38\u001b[0m                     \u001b[38;5;124m'\u001b[39m\u001b[38;5;124moutput_b\u001b[39m\u001b[38;5;124m'\u001b[39m: \u001b[38;5;124m'\u001b[39m\u001b[38;5;124msparse_categorical_crossentropy\u001b[39m\u001b[38;5;124m'\u001b[39m})\n",
      "Cell \u001b[0;32mIn[34], line 6\u001b[0m, in \u001b[0;36mbuild_elmo_model\u001b[0;34m(vocabulary_size, embedding_dim, embedding_matrix, max_review_length)\u001b[0m\n\u001b[1;32m      3\u001b[0m input_layer \u001b[38;5;241m=\u001b[39m Input(shape\u001b[38;5;241m=\u001b[39m(max_review_length,), dtype\u001b[38;5;241m=\u001b[39m\u001b[38;5;124m'\u001b[39m\u001b[38;5;124mint32\u001b[39m\u001b[38;5;124m'\u001b[39m, name\u001b[38;5;241m=\u001b[39m\u001b[38;5;124m'\u001b[39m\u001b[38;5;124minput_layer\u001b[39m\u001b[38;5;124m'\u001b[39m)\n\u001b[1;32m      4\u001b[0m n_layer \u001b[38;5;241m=\u001b[39m Input(shape\u001b[38;5;241m=\u001b[39m(), dtype\u001b[38;5;241m=\u001b[39mtf\u001b[38;5;241m.\u001b[39mint32, name\u001b[38;5;241m=\u001b[39m\u001b[38;5;124m'\u001b[39m\u001b[38;5;124mn\u001b[39m\u001b[38;5;124m'\u001b[39m)\n\u001b[0;32m----> 6\u001b[0m embedding_layer \u001b[38;5;241m=\u001b[39m \u001b[43mEmbedding\u001b[49m\u001b[43m(\u001b[49m\u001b[43minput_dim\u001b[49m\u001b[38;5;241;43m=\u001b[39;49m\u001b[43mvocabulary_size\u001b[49m\u001b[43m \u001b[49m\u001b[38;5;241;43m+\u001b[39;49m\u001b[43m \u001b[49m\u001b[38;5;241;43m3\u001b[39;49m\u001b[43m,\u001b[49m\n\u001b[1;32m      7\u001b[0m \u001b[43m                            \u001b[49m\u001b[43moutput_dim\u001b[49m\u001b[38;5;241;43m=\u001b[39;49m\u001b[43membedding_dim\u001b[49m\u001b[43m,\u001b[49m\n\u001b[1;32m      8\u001b[0m \u001b[43m                            \u001b[49m\u001b[43mweights\u001b[49m\u001b[38;5;241;43m=\u001b[39;49m\u001b[43m[\u001b[49m\u001b[43membedding_matrix\u001b[49m\u001b[43m]\u001b[49m\u001b[43m,\u001b[49m\n\u001b[1;32m      9\u001b[0m \u001b[43m                            \u001b[49m\u001b[43mtrainable\u001b[49m\u001b[38;5;241;43m=\u001b[39;49m\u001b[38;5;28;43;01mFalse\u001b[39;49;00m\u001b[43m,\u001b[49m\n\u001b[1;32m     10\u001b[0m \u001b[43m                            \u001b[49m\u001b[43mmask_zero\u001b[49m\u001b[38;5;241;43m=\u001b[39;49m\u001b[38;5;28;43;01mTrue\u001b[39;49;00m\u001b[43m,\u001b[49m\n\u001b[1;32m     11\u001b[0m \u001b[43m                            \u001b[49m\u001b[43mname\u001b[49m\u001b[38;5;241;43m=\u001b[39;49m\u001b[38;5;124;43m'\u001b[39;49m\u001b[38;5;124;43membedding_layer\u001b[39;49m\u001b[38;5;124;43m'\u001b[39;49m\u001b[43m)\u001b[49m\u001b[43m(\u001b[49m\u001b[43minput_layer\u001b[49m\u001b[43m)\u001b[49m\n\u001b[1;32m     13\u001b[0m \u001b[38;5;66;03m# Mask to discard the last token for forward LSTM\u001b[39;00m\n\u001b[1;32m     14\u001b[0m mask_f \u001b[38;5;241m=\u001b[39m Lambda(\u001b[38;5;28;01mlambda\u001b[39;00m x: x[:, :\u001b[38;5;241m-\u001b[39m\u001b[38;5;241m1\u001b[39m], name\u001b[38;5;241m=\u001b[39m\u001b[38;5;124m'\u001b[39m\u001b[38;5;124mmask_f\u001b[39m\u001b[38;5;124m'\u001b[39m)(embedding_layer)\n",
      "File \u001b[0;32m~/opt/anaconda3/lib/python3.9/site-packages/keras/src/utils/traceback_utils.py:70\u001b[0m, in \u001b[0;36mfilter_traceback.<locals>.error_handler\u001b[0;34m(*args, **kwargs)\u001b[0m\n\u001b[1;32m     67\u001b[0m     filtered_tb \u001b[38;5;241m=\u001b[39m _process_traceback_frames(e\u001b[38;5;241m.\u001b[39m__traceback__)\n\u001b[1;32m     68\u001b[0m     \u001b[38;5;66;03m# To get the full stack trace, call:\u001b[39;00m\n\u001b[1;32m     69\u001b[0m     \u001b[38;5;66;03m# `tf.debugging.disable_traceback_filtering()`\u001b[39;00m\n\u001b[0;32m---> 70\u001b[0m     \u001b[38;5;28;01mraise\u001b[39;00m e\u001b[38;5;241m.\u001b[39mwith_traceback(filtered_tb) \u001b[38;5;28;01mfrom\u001b[39;00m \u001b[38;5;28;01mNone\u001b[39;00m\n\u001b[1;32m     71\u001b[0m \u001b[38;5;28;01mfinally\u001b[39;00m:\n\u001b[1;32m     72\u001b[0m     \u001b[38;5;28;01mdel\u001b[39;00m filtered_tb\n",
      "File \u001b[0;32m~/opt/anaconda3/lib/python3.9/site-packages/keras/src/engine/base_layer.py:1822\u001b[0m, in \u001b[0;36mLayer.set_weights\u001b[0;34m(self, weights)\u001b[0m\n\u001b[1;32m   1820\u001b[0m ref_shape \u001b[38;5;241m=\u001b[39m param\u001b[38;5;241m.\u001b[39mshape\n\u001b[1;32m   1821\u001b[0m \u001b[38;5;28;01mif\u001b[39;00m \u001b[38;5;129;01mnot\u001b[39;00m ref_shape\u001b[38;5;241m.\u001b[39mis_compatible_with(weight_shape):\n\u001b[0;32m-> 1822\u001b[0m     \u001b[38;5;28;01mraise\u001b[39;00m \u001b[38;5;167;01mValueError\u001b[39;00m(\n\u001b[1;32m   1823\u001b[0m         \u001b[38;5;124mf\u001b[39m\u001b[38;5;124m\"\u001b[39m\u001b[38;5;124mLayer \u001b[39m\u001b[38;5;132;01m{\u001b[39;00m\u001b[38;5;28mself\u001b[39m\u001b[38;5;241m.\u001b[39mname\u001b[38;5;132;01m}\u001b[39;00m\u001b[38;5;124m weight shape \u001b[39m\u001b[38;5;132;01m{\u001b[39;00mref_shape\u001b[38;5;132;01m}\u001b[39;00m\u001b[38;5;124m \u001b[39m\u001b[38;5;124m\"\u001b[39m\n\u001b[1;32m   1824\u001b[0m         \u001b[38;5;124m\"\u001b[39m\u001b[38;5;124mis not compatible with provided weight \u001b[39m\u001b[38;5;124m\"\u001b[39m\n\u001b[1;32m   1825\u001b[0m         \u001b[38;5;124mf\u001b[39m\u001b[38;5;124m\"\u001b[39m\u001b[38;5;124mshape \u001b[39m\u001b[38;5;132;01m{\u001b[39;00mweight_shape\u001b[38;5;132;01m}\u001b[39;00m\u001b[38;5;124m.\u001b[39m\u001b[38;5;124m\"\u001b[39m\n\u001b[1;32m   1826\u001b[0m     )\n\u001b[1;32m   1827\u001b[0m weight_value_tuples\u001b[38;5;241m.\u001b[39mappend((param, weight))\n\u001b[1;32m   1828\u001b[0m weight_index \u001b[38;5;241m+\u001b[39m\u001b[38;5;241m=\u001b[39m \u001b[38;5;241m1\u001b[39m\n",
      "\u001b[0;31mValueError\u001b[0m: Layer embedding_layer weight shape (5003, 300) is not compatible with provided weight shape (5004, 300)."
     ]
    }
   ],
   "source": [
    "# Define the ELMo-like language model\n",
    "def build_elmo_model(vocabulary_size, embedding_dim, embedding_matrix, max_review_length):\n",
    "    input_layer = Input(shape=(max_review_length,), dtype='int32', name='input_layer')\n",
    "    n_layer = Input(shape=(), dtype=tf.int32, name='n')\n",
    "    \n",
    "    embedding_layer = Embedding(input_dim=vocabulary_size + 3,\n",
    "                                output_dim=embedding_dim,\n",
    "                                weights=[embedding_matrix],\n",
    "                                trainable=False,\n",
    "                                mask_zero=True,\n",
    "                                name='embedding_layer')(input_layer)\n",
    "\n",
    "    # Mask to discard the last token for forward LSTM\n",
    "    mask_f = Lambda(lambda x: x[:, :-1], name='mask_f')(embedding_layer)\n",
    "\n",
    "    # Mask to discard the first token for backward LSTM\n",
    "    mask_b = Lambda(lambda x: x[:, 1:], name='mask_b')(embedding_layer)\n",
    "\n",
    "    lstm_f1 = LSTM(128, return_sequences=True, name='lstm_f1')(mask_f)\n",
    "    lstm_f2 = LSTM(128, return_sequences=True, name='lstm_f2')(lstm_f1)\n",
    "\n",
    "    lstm_b1 = LSTM(128, return_sequences=True, go_backwards=True, name='lstm_b1')(mask_b)\n",
    "    lstm_b2 = LSTM(128, return_sequences=True, go_backwards=True, name='lstm_b2')(lstm_b1)\n",
    "    reverse_b2 = Lambda(lambda x: K.reverse(x, axes=1), name='reverse_b2')(lstm_b2)\n",
    "\n",
    "    # Softmax layer for both forward and backward outputs\n",
    "    output_f = TimeDistributed(Dense(vocabulary_size + 3, activation='softmax'), name='output_f')(lstm_f2)\n",
    "    output_b = TimeDistributed(Dense(vocabulary_size + 3, activation='softmax'), name='output_b')(reverse_b2)\n",
    "\n",
    "    model = Model(inputs=[input_layer, n_layer], outputs=[output_f, output_b], name='elmo_model')\n",
    "    return model\n",
    "\n",
    "# Build the ELMo model\n",
    "elmo_model = build_elmo_model(vocabulary_size, embedding_dim, embedding_matrix, max_review_length)\n",
    "\n",
    "# Compile the model\n",
    "elmo_model.compile(optimizer='adam', loss={'output_f': 'sparse_categorical_crossentropy', \n",
    "                    'output_b': 'sparse_categorical_crossentropy'})\n",
    "\n",
    "# Print the model summary\n",
    "elmo_model.summary()\n",
    "\n",
    "# Train the model\n",
    "epochs = 10\n",
    "history = elmo_model.fit(train_data, validation_data=validation_data, epochs=epochs)\n",
    "\n",
    "# Evaluate the model on the test set\n",
    "test_loss, test_accuracy = elmo_model.evaluate(test_data)\n",
    "print(f'Test Loss: {test_loss}, Test Accuracy: {test_accuracy}')"
   ]
  },
  {
   "cell_type": "code",
   "execution_count": null,
   "metadata": {},
   "outputs": [],
   "source": [
    "for element in train_data.take(1):\n",
    "    print(element)"
   ]
  },
  {
   "cell_type": "markdown",
   "metadata": {
    "id": "7915KvT-nEpn"
   },
   "source": [
    "<div class=\"alert alert-block alert-danger\" style=\"color:black;background-color:#E7F4FA\">\n",
    "   \n",
    "\n",
    "**2.2.3** - Extracting ELMo embeddings\n",
    "    \n",
    "Use the Functional API to build another model called `Toy_ELMo` to obtain the embeddings.\n",
    "\n",
    "*To concatenate the forward and backward LSTM hidden states we have to align them, which will be achieved by removing the start and end of sentence token embeddings from the forward and the backwards LSTM hidden states respectively. You can use the same logic that you used to process the input. It is necessary to reverse the output of the backward LSTM layers before using it in the Toy ELMo model.*\n",
    "\n",
    "The obtained embeddings should be:\n",
    "    \n",
    "1. The `word2vec` embeddings\n",
    "        \n",
    "    This is just the output after the masked layer in the language model defined above.    \n",
    "    \n",
    "2. The first bidirectional-LSTM layer embeddings\n",
    "\n",
    "    This will be the concatenation of the first LSTM layers of the language model (`lstm1 forward + lstm1 backwards`).\n",
    "    \n",
    "3. The second bidirectional-LSTM layer embeddings\n",
    "\n",
    "    This will be the concatenation of the second LSTM layer of the language model (`lstm2 forward + lstm2 backwards`).    \n",
    "    \n",
    "- Make a test prediction of your `Toy_ELMo` model    \n",
    "\n",
    "</div>    "
   ]
  },
  {
   "cell_type": "code",
   "execution_count": 14,
   "metadata": {},
   "outputs": [
    {
     "name": "stdout",
     "output_type": "stream",
     "text": [
      "Embedding matrix shape: (5004, 300)\n"
     ]
    }
   ],
   "source": [
    "# Example parameters\n",
    "vocabulary_size = 5000  # Adjust this based on your actual vocabulary size\n",
    "embedding_dim = 300  # Example embedding dimension\n",
    "\n",
    "# Create an embedding matrix with the correct shape\n",
    "# Ensure it has vocabulary_size + 4 rows\n",
    "embedding_matrix = np.random.rand(vocabulary_size + 4, embedding_dim)  # Example embedding matrix\n",
    "\n",
    "# Check the shape of the embedding matrix\n",
    "print(\"Embedding matrix shape:\", embedding_matrix.shape)\n"
   ]
  },
  {
   "cell_type": "code",
   "execution_count": 18,
   "metadata": {},
   "outputs": [
    {
     "name": "stdout",
     "output_type": "stream",
     "text": [
      "Model: \"toy_elmo_model\"\n",
      "__________________________________________________________________________________________________\n",
      " Layer (type)                Output Shape                 Param #   Connected to                  \n",
      "==================================================================================================\n",
      " input_layer (InputLayer)    [(None, 201)]                0         []                            \n",
      "                                                                                                  \n",
      " embedding_layer (Embedding  (None, 201, 300)             1501200   ['input_layer[0][0]']         \n",
      " )                                                                                                \n",
      "                                                                                                  \n",
      " mask_b (Lambda)             (None, 200, 300)             0         ['embedding_layer[0][0]']     \n",
      "                                                                                                  \n",
      " mask_f (Lambda)             (None, 200, 300)             0         ['embedding_layer[0][0]']     \n",
      "                                                                                                  \n",
      " lstm_b1 (LSTM)              (None, 200, 128)             219648    ['mask_b[0][0]']              \n",
      "                                                                                                  \n",
      " lstm_f1 (LSTM)              (None, 200, 128)             219648    ['mask_f[0][0]']              \n",
      "                                                                                                  \n",
      " lstm_b2 (LSTM)              (None, 200, 128)             131584    ['lstm_b1[0][0]']             \n",
      "                                                                                                  \n",
      " reverse_b1 (Lambda)         (None, 200, 128)             0         ['lstm_b1[0][0]']             \n",
      "                                                                                                  \n",
      " lstm_f2 (LSTM)              (None, 200, 128)             131584    ['lstm_f1[0][0]']             \n",
      "                                                                                                  \n",
      " reverse_b2 (Lambda)         (None, 200, 128)             0         ['lstm_b2[0][0]']             \n",
      "                                                                                                  \n",
      " concat_lstm1 (Concatenate)  (None, 200, 256)             0         ['lstm_f1[0][0]',             \n",
      "                                                                     'reverse_b1[0][0]']          \n",
      "                                                                                                  \n",
      " concat_lstm2 (Concatenate)  (None, 200, 256)             0         ['lstm_f2[0][0]',             \n",
      "                                                                     'reverse_b2[0][0]']          \n",
      "                                                                                                  \n",
      "==================================================================================================\n",
      "Total params: 2203664 (8.41 MB)\n",
      "Trainable params: 702464 (2.68 MB)\n",
      "Non-trainable params: 1501200 (5.73 MB)\n",
      "__________________________________________________________________________________________________\n",
      "Test input shape: (1, 201)\n",
      "1/1 [==============================] - 1s 941ms/step\n",
      "Word2Vec Embeddings Shape: (1, 201, 300)\n",
      "First BiLSTM Layer Embeddings Shape: (1, 200, 256)\n",
      "Second BiLSTM Layer Embeddings Shape: (1, 200, 256)\n",
      "Decoded Review: <s> well how do you even rate a movie such as this one does it even have cinematic value really it's a movie that tries to get as close to being a UNK movie as possible basically the entire movie is purely a bunch of guys UNK a young girl not very appealing and on top of that also not that realistic really br br it's obvious that the movie tried to be as realistic and shocking as possible however the movie is just all too fake for that to work out as intended the UNK and UNK is all soft and fake looking as well as sounding they are often just kicking into the floor rather than into the girl obviously also the way the girl UNK to all the UNK is pretty tame i mean if this was real surely she would had UNK it out there is more UNK than screaming in this one though br br the movie is obviously low budget and it's a UNK attempt at trying to achieve something shocking and realistic as well as original and provoking with very limited resources don't really think this movie made much impact though at the </s>\n"
     ]
    }
   ],
   "source": [
    "# Define the Toy_ELMo model\n",
    "def build_toy_elmo_model(vocabulary_size, embedding_dim, embedding_matrix, max_review_length):\n",
    "    # Input layer\n",
    "    input_layer = Input(shape=(max_review_length + 1,), dtype='int32', name='input_layer')\n",
    "\n",
    "    # Ensure the embedding matrix shape is compatible\n",
    "    if embedding_matrix.shape[0] != vocabulary_size + 4:\n",
    "        raise ValueError(f\"Expected embedding matrix shape: ({vocabulary_size + 4}, {embedding_dim}), \"\n",
    "                         f\"but got {embedding_matrix.shape}\")\n",
    "\n",
    "    # Embedding layer\n",
    "    embedding_layer = Embedding(input_dim=vocabulary_size + 4,\n",
    "                                output_dim=embedding_dim,\n",
    "                                weights=[embedding_matrix],\n",
    "                                trainable=False,\n",
    "                                mask_zero=True,\n",
    "                                name='embedding_layer')(input_layer)\n",
    "\n",
    "    # Mask to discard the last token for forward LSTM\n",
    "    mask_f = Lambda(lambda x: x[:, :-1], name='mask_f')(embedding_layer)\n",
    "\n",
    "    # Mask to discard the first token for backward LSTM\n",
    "    mask_b = Lambda(lambda x: x[:, 1:], name='mask_b')(embedding_layer)\n",
    "\n",
    "    # Forward LSTM layers\n",
    "    lstm_f1 = LSTM(128, return_sequences=True, name='lstm_f1')(mask_f)\n",
    "    lstm_f2 = LSTM(128, return_sequences=True, name='lstm_f2')(lstm_f1)\n",
    "\n",
    "    # Backward LSTM layers\n",
    "    lstm_b1 = LSTM(128, return_sequences=True, go_backwards=True, name='lstm_b1')(mask_b)\n",
    "    lstm_b2 = LSTM(128, return_sequences=True, go_backwards=True, name='lstm_b2')(lstm_b1)\n",
    "\n",
    "    # Reverse the output of backward LSTM layers\n",
    "    reverse_b1 = Lambda(lambda x: tf.reverse(x, axis=[1]), name='reverse_b1')(lstm_b1)\n",
    "    reverse_b2 = Lambda(lambda x: tf.reverse(x, axis=[1]), name='reverse_b2')(lstm_b2)\n",
    "\n",
    "    # Concatenate forward and backward LSTM outputs for each layer\n",
    "    concat_lstm1 = Concatenate(name='concat_lstm1')([lstm_f1, reverse_b1])\n",
    "    concat_lstm2 = Concatenate(name='concat_lstm2')([lstm_f2, reverse_b2])\n",
    "\n",
    "    # Define the model\n",
    "    model = Model(inputs=input_layer, outputs=[embedding_layer, concat_lstm1, concat_lstm2], name='toy_elmo_model')\n",
    "\n",
    "    return model\n",
    "\n",
    "# Build the Toy_ELMo model\n",
    "max_review_length = 200 \n",
    "toy_elmo_model = build_toy_elmo_model(vocabulary_size, embedding_dim, embedding_matrix, max_review_length)\n",
    "\n",
    "# Compile the model\n",
    "toy_elmo_model.compile(optimizer='adam', loss='sparse_categorical_crossentropy', metrics=['accuracy'])\n",
    "\n",
    "# Print the model summary\n",
    "toy_elmo_model.summary()\n",
    "\n",
    "# Convert the first review from the training set to a NumPy array\n",
    "test_input = np.array(x_train[:1])  # Use the first review from the training set for testing\n",
    "\n",
    "# Print the shape of the test input to verify\n",
    "print(\"Test input shape:\", test_input.shape)\n",
    "\n",
    "# Make a prediction\n",
    "embeddings = toy_elmo_model.predict(test_input)\n",
    "\n",
    "# Print the shapes of the obtained embeddings\n",
    "print(\"Word2Vec Embeddings Shape:\", embeddings[0].shape)\n",
    "print(\"First BiLSTM Layer Embeddings Shape:\", embeddings[1].shape)\n",
    "print(\"Second BiLSTM Layer Embeddings Shape:\", embeddings[2].shape)\n",
    "\n",
    "# Decode the embeddings to verify\n",
    "decoded_review = decode_review(test_input[0])\n",
    "print(\"Decoded Review:\", decoded_review)\n"
   ]
  },
  {
   "cell_type": "markdown",
   "metadata": {
    "id": "YnrXSWRrnEpn"
   },
   "source": [
    "<div class=\"alert alert-block alert-danger\" style=\"color:black;background-color:#E7F4FA\">\n",
    "\n",
    "#### **2.3 [15 points] Transfer Learning**\n",
    "    \n",
    "Once you've sufficiently trained your ELMo embeddings, we can use it for a downstream task such as sentiment analysis.\n",
    "\n",
    "</div>    "
   ]
  },
  {
   "cell_type": "markdown",
   "metadata": {
    "id": "IdBl2mPA_i5Q"
   },
   "source": [
    "**2.3.1** - Baseline model\n",
    "    \n",
    "For the baseline model, you will use:\n",
    "    \n",
    "- `tf.keras.Layers.Embedding()` layer\n",
    "-  2 layers of `GRU` with `hidden_size=300`\n",
    "-  Dense output layer\n",
    "    \n",
    "You will build a `tf.data.Dataset` similar to the one created in Section 2.2.1 but instead of having a target as a series of tokens, the target should only be a class (positive or negative sentiment). Unlike in 2.2.1 we only need a single sequence of tokens for this model\n",
    "\n",
    "Train it for sufficient epochs using an appropriate optimizer and learning rate."
   ]
  },
  {
   "cell_type": "code",
   "execution_count": null,
   "metadata": {
    "id": "pwHel2B7nEpn"
   },
   "outputs": [],
   "source": [
    "# Your code here\n",
    "# Pad and truncate the sequences to the maximum review length\n",
    "x_train = pad_sequences(x_train, maxlen=max_review_length, truncating='post', padding='post')\n",
    "x_test = pad_sequences(x_test, maxlen=max_review_length, truncating='post', padding='post')\n",
    "\n",
    "# Split the data into training and validation sets\n",
    "x_train, x_val, y_train, y_val = train_test_split(x_train, y_train, test_size=0.2, random_state=42)\n",
    "\n",
    "# Create a tf.data.Dataset for training and validation\n",
    "batch_size = 64\n",
    "\n",
    "train_data = tf.data.Dataset.from_tensor_slices((x_train, y_train))\n",
    "train_data = train_data.shuffle(buffer_size=len(x_train)).batch(batch_size).prefetch(tf.data.experimental.AUTOTUNE)\n",
    "\n",
    "validation_data = tf.data.Dataset.from_tensor_slices((x_val, y_val))\n",
    "validation_data = validation_data.batch(batch_size).prefetch(tf.data.experimental.AUTOTUNE)\n",
    "\n",
    "# Define the baseline model\n",
    "def build_baseline_model(vocabulary_size, embedding_dim, max_review_length):\n",
    "    input_layer = tf.keras.layers.Input(shape=(max_review_length,), dtype='int32', name='input_layer')\n",
    "    embedding_layer = tf.keras.layers.Embedding(input_dim=vocabulary_size, output_dim=embedding_dim, input_length=max_review_length, name='embedding_layer')(input_layer)\n",
    "    gru_layer1 = tf.keras.layers.GRU(300, return_sequences=True, name='gru_layer1')(embedding_layer)\n",
    "    gru_layer2 = tf.keras.layers.GRU(300, name='gru_layer2')(gru_layer1)\n",
    "    output_layer = tf.keras.layers.Dense(1, activation='sigmoid', name='output_layer')(gru_layer2)\n",
    "\n",
    "    model = tf.keras.models.Model(inputs=input_layer, outputs=output_layer, name='baseline_model')\n",
    "    return model\n",
    "\n",
    "# Build the model\n",
    "embedding_dim = 300\n",
    "baseline_model = build_baseline_model(vocabulary_size, embedding_dim, max_review_length)\n",
    "\n",
    "# Compile the model\n",
    "baseline_model.compile(optimizer='adam', loss='binary_crossentropy', metrics=['accuracy'])\n",
    "\n",
    "# Print the model summary\n",
    "baseline_model.summary()\n",
    "\n",
    "# Train the model\n",
    "epochs = 10\n",
    "history = baseline_model.fit(train_data, validation_data=validation_data, epochs=epochs)\n",
    "\n",
    "# Evaluate the model on the test set\n",
    "test_data = tf.data.Dataset.from_tensor_slices((x_test, y_test)).batch(batch_size)\n",
    "test_loss, test_accuracy = baseline_model.evaluate(test_data)\n",
    "print(f'Test Loss: {test_loss}, Test Accuracy: {test_accuracy}')\n"
   ]
  },
  {
   "cell_type": "markdown",
   "metadata": {
    "id": "vtypOrPSnEpn"
   },
   "source": [
    "<div class=\"alert alert-block alert-danger\" style=\"color:black;background-color:#E7F4FA\">\n",
    "\n",
    "**2.3.2** - Directly using pre-trained `word2vec`\n",
    "    \n",
    "For this section, use the pre-trained `word2vec` embeddings directly into your model.\n",
    "\n",
    "You can use the same `tf.data.Dataset` from 2.3.1 for this model\n",
    "    \n",
    "Train, and compare its performance with the baseline model defined above **using the same architecture** as above.\n",
    "</div>"
   ]
  },
  {
   "cell_type": "code",
   "execution_count": null,
   "metadata": {
    "id": "Dvy-abt7nEpn"
   },
   "outputs": [],
   "source": [
    "# Your code here\n",
    "# Create an embedding matrix\n",
    "embedding_matrix = np.zeros((vocabulary_size + 4, embedding_dim))  # +4 for special tokens\n",
    "embedding_matrix[1] = np.random.randn(embedding_dim)  # <s>\n",
    "embedding_matrix[2] = np.random.randn(embedding_dim)  # UNK\n",
    "embedding_matrix[3] = np.random.randn(embedding_dim)  # </s>\n",
    "\n",
    "for word, i in index.items():\n",
    "    if i < vocabulary_size + 4:\n",
    "        if word in model:\n",
    "            embedding_vector = model[word]\n",
    "        else:\n",
    "            embedding_vector = np.random.randn(embedding_dim)\n",
    "        embedding_matrix[i] = embedding_vector\n",
    "\n",
    "# Define the model using pre-trained word2vec embeddings\n",
    "def build_word2vec_model(vocabulary_size, embedding_dim, embedding_matrix, max_review_length):\n",
    "    input_layer = tf.keras.layers.Input(shape=(max_review_length,), dtype='int32', name='input_layer')\n",
    "    embedding_layer = tf.keras.layers.Embedding(input_dim=vocabulary_size + 4, output_dim=embedding_dim, weights=[embedding_matrix], trainable=False, name='embedding_layer')(input_layer)\n",
    "    gru_layer1 = tf.keras.layers.GRU(300, return_sequences=True, name='gru_layer1')(embedding_layer)\n",
    "    gru_layer2 = tf.keras.layers.GRU(300, name='gru_layer2')(gru_layer1)\n",
    "    output_layer = tf.keras.layers.Dense(1, activation='sigmoid', name='output_layer')(gru_layer2)\n",
    "\n",
    "    model = tf.keras.models.Model(inputs=input_layer, outputs=output_layer, name='word2vec_model')\n",
    "    return model\n",
    "\n",
    "# Build the model\n",
    "word2vec_model = build_word2vec_model(vocabulary_size, embedding_dim, embedding_matrix, max_review_length)\n",
    "\n",
    "# Compile the model\n",
    "word2vec_model.compile(optimizer='adam', loss='binary_crossentropy', metrics=['accuracy'])\n",
    "\n",
    "# Print the model summary\n",
    "word2vec_model.summary()\n",
    "\n",
    "# Train the model\n",
    "history_word2vec = word2vec_model.fit(train_data, validation_data=validation_data, epochs=epochs)\n",
    "\n",
    "# Evaluate the model on the test set\n",
    "test_loss_word2vec, test_accuracy_word2vec = word2vec_model.evaluate(test_data)\n",
    "print(f'Test Loss: {test_loss_word2vec}, Test Accuracy: {test_accuracy_word2vec}')\n"
   ]
  },
  {
   "cell_type": "markdown",
   "metadata": {
    "id": "QNRck8BonEpn"
   },
   "source": [
    "<div class=\"alert alert-block alert-danger\" style=\"color:black;background-color:#E7F4FA\">\n",
    "    \n",
    "**2.3.3** You have already done sentiment analysis using `tf.keras.layers.Embedding()`. You will now aim to beat that baseline using your ELMo embeddings.\n",
    "\n",
    "Using ELMo embeddings:\n",
    "\n",
    "You will build another `tf.data.Dataset` similar to the one created in Section 2.2.1 but instead of having a target as a series of tokens, the target should only be a class (positive or negative sentiment). This model also requires two inputs one for forward and one for backward LSTM.\n",
    "\n",
    "For this model, you will use:\n",
    "- `Toy_ELMo` model after the input layer\n",
    "-  Sauce layer\n",
    "-  2 layers of `GRU` with `hidden_size=300`\n",
    "-  Dense output layer\n",
    "\n",
    "**NOTE**: Set `Toy_ELMo.trainable` to `False` to avoid retraining the model.\n",
    "        \n",
    "Create the **sauce** layer to combine the three embeddings from your `Toy_ELMo`. You should have **three** trainable parameters in this layer\n",
    "\n",
    "$$ELMo_{t} = \\gamma \\sum_{j=0}^{L} s_{j} h_{t}^{j}$$\n",
    "\n",
    "Since we are not using any other embeddings, we will set the value of $\\gamma$ to 1. <br>\n",
    "Train the modified model sufficiently, and compare it to the previously trained models.\n",
    "\n",
    "</div>  "
   ]
  },
  {
   "cell_type": "code",
   "execution_count": null,
   "metadata": {
    "id": "RlAGbF9ynEpn"
   },
   "outputs": [],
   "source": [
    "# Helper code\n",
    "# Scale layer for sauce\n",
    "class ScaleLayer(tf.keras.layers.Layer):\n",
    "    def __init__(self, shape):\n",
    "        super(ScaleLayer, self).__init__()\n",
    "        self.supports_masking = True\n",
    "        self.shape = shape\n",
    "\n",
    "    def build(self, inputs):\n",
    "        sauce_initializer = tf.keras.initializers.Constant(value = [0.4, 0.3, 0.3])\n",
    "        self.scale = self.add_weight(shape = (self.shape,), initializer = sauce_initializer, trainable = True)\n",
    "\n",
    "    def call(self, inputs):\n",
    "        scale_norm = tf.nn.softmax(self.scale)\n",
    "\n",
    "        return tf.tensordot(scale_norm, inputs, axes=1)"
   ]
  },
  {
   "cell_type": "code",
   "execution_count": null,
   "metadata": {},
   "outputs": [],
   "source": [
    "\n",
    "# Define the Toy_ELMo model\n",
    "def build_toy_elmo_model(vocabulary_size, embedding_dim, embedding_matrix, max_review_length):\n",
    "    input_layer = Input(shape=(max_review_length,), dtype='int32', name='input_layer')\n",
    "    embedding_layer = Embedding(input_dim=vocabulary_size + 4,\n",
    "                                output_dim=embedding_dim,\n",
    "                                weights=[embedding_matrix],\n",
    "                                trainable=False,\n",
    "                                mask_zero=True,\n",
    "                                name='embedding_layer')(input_layer)\n",
    "    mask_f = Lambda(lambda x: x[:, :-1], name='mask_f')(embedding_layer)\n",
    "    mask_b = Lambda(lambda x: x[:, :-1], name='mask_b')(embedding_layer)\n",
    "    lstm_f1 = GRU(128, return_sequences=True, name='gru_f1')(mask_f)\n",
    "    lstm_f2 = GRU(128, return_sequences=True, name='gru_f2')(lstm_f1)\n",
    "    lstm_b1 = GRU(128, return_sequences=True, go_backwards=True, name='gru_b1')(mask_b)\n",
    "    lstm_b2 = GRU(128, return_sequences=True, go_backwards=True, name='gru_b2')(lstm_b1)\n",
    "    reverse_b2 = Lambda(lambda x: K.reverse(x, axes=1), name='reverse_b2')(lstm_b2)\n",
    "    # Adjust the dimensions to match by slicing the larger output\n",
    "    lstm_f2 = Lambda(lambda x: x[:, :-1], name='adjust_lstm_f2')(lstm_f2)\n",
    "    combined = Add(name='combined')([lstm_f2, reverse_b2])\n",
    "    model = Model(inputs=input_layer, outputs=[embedding_layer, lstm_f1, combined], name='toy_elmo_model')\n",
    "    return model\n",
    "\n",
    "# Build the Toy_ELMo model\n",
    "toy_elmo_model = build_toy_elmo_model(vocabulary_size, embedding_dim, embedding_matrix, max_review_length)\n",
    "toy_elmo_model.trainable = False\n",
    "\n",
    "# Pre-defined ScaleLayer\n",
    "class ScaleLayer(tf.keras.layers.Layer):\n",
    "    def __init__(self, shape):\n",
    "        super(ScaleLayer, self).__init__()\n",
    "        self.supports_masking = True\n",
    "        self.shape = shape\n",
    "\n",
    "    def build(self, input_shape):\n",
    "        sauce_initializer = tf.keras.initializers.Constant(value=[0.4, 0.3, 0.3])\n",
    "        self.scale = self.add_weight(shape=(self.shape,), initializer=sauce_initializer, trainable=True)\n",
    "\n",
    "    def call(self, inputs):\n",
    "        scale_norm = tf.nn.softmax(self.scale)\n",
    "        return tf.reduce_sum([scale_norm[i] * inputs[i] for i in range(len(inputs))], axis=0)\n",
    "\n",
    "# Define the sentiment analysis model using Toy_ELMo embeddings\n",
    "def build_sentiment_model(toy_elmo_model, max_review_length, hidden_size=300):\n",
    "    input_layer = Input(shape=(max_review_length,), dtype='int32', name='input_layer')\n",
    "    embeddings, lstm_f1, combined = toy_elmo_model(input_layer)\n",
    "    embeddings = embeddings[:, 1:-2, :]  # Adjust the dimensions\n",
    "    lstm_f1 = lstm_f1[:, :-1, :]         # Adjust the dimensions\n",
    "    sauce_layer = ScaleLayer(shape=3)([embeddings, lstm_f1, combined])\n",
    "    gru_layer1 = GRU(hidden_size, return_sequences=True, name='gru_layer1')(sauce_layer)\n",
    "    gru_layer2 = GRU(hidden_size, name='gru_layer2')(gru_layer1)\n",
    "    output_layer = Dense(1, activation='sigmoid', name='output_layer')(gru_layer2)\n",
    "    model = Model(inputs=input_layer, outputs=output_layer, name='sentiment_model')\n",
    "    return model\n",
    "\n",
    "# Build and compile the sentiment analysis model\n",
    "sentiment_model = build_sentiment_model(toy_elmo_model, max_review_length)\n",
    "sentiment_model.compile(optimizer='adam', loss='binary_crossentropy', metrics=['accuracy'])\n",
    "\n",
    "# Print the model summary\n",
    "sentiment_model.summary()\n",
    "\n",
    "# Train the model\n",
    "epochs = 10\n",
    "history = sentiment_model.fit(train_data, validation_data=validation_data, epochs=epochs)\n",
    "\n",
    "# Evaluate the model on the test set\n",
    "test_loss, test_accuracy = sentiment_model.evaluate(test_data)\n",
    "print(f'Test Loss: {test_loss}, Test Accuracy: {test_accuracy}')\n"
   ]
  },
  {
   "cell_type": "code",
   "execution_count": null,
   "metadata": {},
   "outputs": [],
   "source": []
  }
 ],
 "metadata": {
  "accelerator": "GPU",
  "colab": {
   "gpuType": "A100",
   "machine_shape": "hm",
   "provenance": []
  },
  "kernelspec": {
   "display_name": "Python 3 (ipykernel)",
   "language": "python",
   "name": "python3"
  },
  "language_info": {
   "codemirror_mode": {
    "name": "ipython",
    "version": 3
   },
   "file_extension": ".py",
   "mimetype": "text/x-python",
   "name": "python",
   "nbconvert_exporter": "python",
   "pygments_lexer": "ipython3",
   "version": "3.9.13"
  }
 },
 "nbformat": 4,
 "nbformat_minor": 4
}
